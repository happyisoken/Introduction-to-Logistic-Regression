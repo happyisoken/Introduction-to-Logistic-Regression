{
 "cells": [
  {
   "cell_type": "markdown",
   "id": "f1c0cae0-3274-4513-9070-84eb6cb0a2bc",
   "metadata": {},
   "source": [
    "### Introduction to logistic regression\n",
    "\n",
    "Linear Regression is just the base that we build on. Real world problems often require more sophisticated non-linear models.\n",
    "\n",
    "They may be:\n",
    ". Quadratic\n",
    ". Exponential\n",
    ". Logistic  \n",
    "\n",
    "A Logistic regression implies that the possible outcomes are not numerical but rather categorical. This can be either a yes or no response just like dummies which is often the case in a business situation.\n",
    "\n",
    "With a logistic regression, we can make a much more fundamental forecast - will the customer buy at all! "
   ]
  },
  {
   "cell_type": "markdown",
   "id": "ac3d37fb-112b-4be5-86e6-472d5251194f",
   "metadata": {},
   "source": [
    "### A simple example in Python"
   ]
  },
  {
   "cell_type": "markdown",
   "id": "df48316f-1149-4729-a73a-f1abd819d419",
   "metadata": {},
   "source": [
    "#### Basics of Logistic regression"
   ]
  },
  {
   "cell_type": "code",
   "execution_count": 1,
   "id": "8ae501b2-995a-4749-a3ec-49937f8a20c0",
   "metadata": {},
   "outputs": [],
   "source": [
    "# Import the relevant libraries\n",
    "import numpy as np\n",
    "import pandas as pd\n",
    "import statsmodels.api as sn\n",
    "import matplotlib.pyplot as plt\n",
    "import seaborn as sns\n",
    "sns.set()"
   ]
  },
  {
   "cell_type": "code",
   "execution_count": 2,
   "id": "31c811f9-a9dc-45b4-b714-cff535d9ec32",
   "metadata": {},
   "outputs": [],
   "source": [
    "# Load the data\n",
    "raw_data = pd.read_csv('C:\\\\Users\\\\AFC 2\\\\Documents\\\\Data Science Files\\\\Jupyter notebooks for Data Science\\\\2.01. Admittance.csv')"
   ]
  },
  {
   "cell_type": "code",
   "execution_count": 3,
   "id": "75e9fffd-7c0f-4345-820d-69867cd06f86",
   "metadata": {},
   "outputs": [
    {
     "data": {
      "text/html": [
       "<div>\n",
       "<style scoped>\n",
       "    .dataframe tbody tr th:only-of-type {\n",
       "        vertical-align: middle;\n",
       "    }\n",
       "\n",
       "    .dataframe tbody tr th {\n",
       "        vertical-align: top;\n",
       "    }\n",
       "\n",
       "    .dataframe thead th {\n",
       "        text-align: right;\n",
       "    }\n",
       "</style>\n",
       "<table border=\"1\" class=\"dataframe\">\n",
       "  <thead>\n",
       "    <tr style=\"text-align: right;\">\n",
       "      <th></th>\n",
       "      <th>SAT</th>\n",
       "      <th>Admitted</th>\n",
       "    </tr>\n",
       "  </thead>\n",
       "  <tbody>\n",
       "    <tr>\n",
       "      <th>0</th>\n",
       "      <td>1363</td>\n",
       "      <td>No</td>\n",
       "    </tr>\n",
       "    <tr>\n",
       "      <th>1</th>\n",
       "      <td>1792</td>\n",
       "      <td>Yes</td>\n",
       "    </tr>\n",
       "    <tr>\n",
       "      <th>2</th>\n",
       "      <td>1954</td>\n",
       "      <td>Yes</td>\n",
       "    </tr>\n",
       "    <tr>\n",
       "      <th>3</th>\n",
       "      <td>1653</td>\n",
       "      <td>No</td>\n",
       "    </tr>\n",
       "    <tr>\n",
       "      <th>4</th>\n",
       "      <td>1593</td>\n",
       "      <td>No</td>\n",
       "    </tr>\n",
       "    <tr>\n",
       "      <th>...</th>\n",
       "      <td>...</td>\n",
       "      <td>...</td>\n",
       "    </tr>\n",
       "    <tr>\n",
       "      <th>163</th>\n",
       "      <td>1722</td>\n",
       "      <td>Yes</td>\n",
       "    </tr>\n",
       "    <tr>\n",
       "      <th>164</th>\n",
       "      <td>1750</td>\n",
       "      <td>Yes</td>\n",
       "    </tr>\n",
       "    <tr>\n",
       "      <th>165</th>\n",
       "      <td>1555</td>\n",
       "      <td>No</td>\n",
       "    </tr>\n",
       "    <tr>\n",
       "      <th>166</th>\n",
       "      <td>1524</td>\n",
       "      <td>No</td>\n",
       "    </tr>\n",
       "    <tr>\n",
       "      <th>167</th>\n",
       "      <td>1461</td>\n",
       "      <td>No</td>\n",
       "    </tr>\n",
       "  </tbody>\n",
       "</table>\n",
       "<p>168 rows × 2 columns</p>\n",
       "</div>"
      ],
      "text/plain": [
       "      SAT Admitted\n",
       "0    1363       No\n",
       "1    1792      Yes\n",
       "2    1954      Yes\n",
       "3    1653       No\n",
       "4    1593       No\n",
       "..    ...      ...\n",
       "163  1722      Yes\n",
       "164  1750      Yes\n",
       "165  1555       No\n",
       "166  1524       No\n",
       "167  1461       No\n",
       "\n",
       "[168 rows x 2 columns]"
      ]
     },
     "execution_count": 3,
     "metadata": {},
     "output_type": "execute_result"
    }
   ],
   "source": [
    "raw_data"
   ]
  },
  {
   "cell_type": "code",
   "execution_count": 4,
   "id": "3d3c9e87-7466-484f-a5e6-b78c1f5eb559",
   "metadata": {},
   "outputs": [
    {
     "data": {
      "text/html": [
       "<div>\n",
       "<style scoped>\n",
       "    .dataframe tbody tr th:only-of-type {\n",
       "        vertical-align: middle;\n",
       "    }\n",
       "\n",
       "    .dataframe tbody tr th {\n",
       "        vertical-align: top;\n",
       "    }\n",
       "\n",
       "    .dataframe thead th {\n",
       "        text-align: right;\n",
       "    }\n",
       "</style>\n",
       "<table border=\"1\" class=\"dataframe\">\n",
       "  <thead>\n",
       "    <tr style=\"text-align: right;\">\n",
       "      <th></th>\n",
       "      <th>SAT</th>\n",
       "      <th>Admitted</th>\n",
       "    </tr>\n",
       "  </thead>\n",
       "  <tbody>\n",
       "    <tr>\n",
       "      <th>0</th>\n",
       "      <td>1363</td>\n",
       "      <td>0</td>\n",
       "    </tr>\n",
       "    <tr>\n",
       "      <th>1</th>\n",
       "      <td>1792</td>\n",
       "      <td>1</td>\n",
       "    </tr>\n",
       "    <tr>\n",
       "      <th>2</th>\n",
       "      <td>1954</td>\n",
       "      <td>1</td>\n",
       "    </tr>\n",
       "    <tr>\n",
       "      <th>3</th>\n",
       "      <td>1653</td>\n",
       "      <td>0</td>\n",
       "    </tr>\n",
       "    <tr>\n",
       "      <th>4</th>\n",
       "      <td>1593</td>\n",
       "      <td>0</td>\n",
       "    </tr>\n",
       "    <tr>\n",
       "      <th>...</th>\n",
       "      <td>...</td>\n",
       "      <td>...</td>\n",
       "    </tr>\n",
       "    <tr>\n",
       "      <th>163</th>\n",
       "      <td>1722</td>\n",
       "      <td>1</td>\n",
       "    </tr>\n",
       "    <tr>\n",
       "      <th>164</th>\n",
       "      <td>1750</td>\n",
       "      <td>1</td>\n",
       "    </tr>\n",
       "    <tr>\n",
       "      <th>165</th>\n",
       "      <td>1555</td>\n",
       "      <td>0</td>\n",
       "    </tr>\n",
       "    <tr>\n",
       "      <th>166</th>\n",
       "      <td>1524</td>\n",
       "      <td>0</td>\n",
       "    </tr>\n",
       "    <tr>\n",
       "      <th>167</th>\n",
       "      <td>1461</td>\n",
       "      <td>0</td>\n",
       "    </tr>\n",
       "  </tbody>\n",
       "</table>\n",
       "<p>168 rows × 2 columns</p>\n",
       "</div>"
      ],
      "text/plain": [
       "      SAT  Admitted\n",
       "0    1363         0\n",
       "1    1792         1\n",
       "2    1954         1\n",
       "3    1653         0\n",
       "4    1593         0\n",
       "..    ...       ...\n",
       "163  1722         1\n",
       "164  1750         1\n",
       "165  1555         0\n",
       "166  1524         0\n",
       "167  1461         0\n",
       "\n",
       "[168 rows x 2 columns]"
      ]
     },
     "execution_count": 4,
     "metadata": {},
     "output_type": "execute_result"
    }
   ],
   "source": [
    "# Like dummies, we must convert the yes and nos entries to 1s and 0s to be able to use as quantitative analysis  \n",
    "data = raw_data.copy()\n",
    "data['Admitted'] = data['Admitted'].map({'Yes':1, 'No':0})\n",
    "data"
   ]
  },
  {
   "cell_type": "markdown",
   "id": "67dda81e-e227-4359-b524-af4b4eeb4e83",
   "metadata": {},
   "source": [
    "#### Variables"
   ]
  },
  {
   "cell_type": "code",
   "execution_count": 5,
   "id": "9e1c4bfe-eac7-4d3f-8756-e3980fae21a4",
   "metadata": {},
   "outputs": [],
   "source": [
    "y = data['Admitted'] \n",
    "x1 = data['SAT']"
   ]
  },
  {
   "cell_type": "markdown",
   "id": "c54ba7f1-3092-4e22-8071-f118dcd8d8b8",
   "metadata": {},
   "source": [
    "#### Let's plot the data\n",
    "\n",
    "### Scatter plot"
   ]
  },
  {
   "cell_type": "code",
   "execution_count": 6,
   "id": "85fc2b03-6c5c-4aa0-a3f2-4529b483b6ad",
   "metadata": {},
   "outputs": [
    {
     "data": {
      "image/png": "[encoded data removed]",
      "text/plain": [
       "<Figure size 432x288 with 1 Axes>"
      ]
     },
     "metadata": {},
     "output_type": "display_data"
    }
   ],
   "source": [
    "plt.scatter(x1, y, color = 'C0')\n",
    "plt.xlabel('SAT', fontsize = 20)\n",
    "plt.ylabel('Admitted', fontsize = 20)\n",
    "plt.show()"
   ]
  },
  {
   "cell_type": "markdown",
   "id": "e6c12c84-eb01-4bc7-8f95-355ea2075085",
   "metadata": {},
   "source": [
    "In the scatter plot above, you will see that for all the observations below, the outcome was 0 (not admitted). While the observations above are 1 (got admitted)"
   ]
  },
  {
   "cell_type": "markdown",
   "id": "89ce4a51-1f6f-436e-a6ec-9bf945be41b0",
   "metadata": {},
   "source": [
    "#### Plot with regression line"
   ]
  },
  {
   "cell_type": "code",
   "execution_count": 7,
   "id": "54176f54-5490-4336-8c77-bec91e0e5c4e",
   "metadata": {},
   "outputs": [
    {
     "name": "stderr",
     "output_type": "stream",
     "text": [
      "C:\\Users\\AFC 2\\anaconda3\\lib\\site-packages\\statsmodels\\tsa\\tsatools.py:142: FutureWarning: In a future version of pandas all arguments of concat except for the argument 'objs' will be keyword-only\n",
      "  x = pd.concat(x[::order], 1)\n"
     ]
    },
    {
     "data": {
      "image/png": "[encoded data removed]",
      "text/plain": [
       "<Figure size 432x288 with 1 Axes>"
      ]
     },
     "metadata": {},
     "output_type": "display_data"
    }
   ],
   "source": [
    "x = sn.add_constant(x1)\n",
    "reg_lin = sn.OLS(y, x)\n",
    "results_lin = reg_lin.fit()\n",
    "\n",
    "plt.scatter(x1, y, color = 'C0')\n",
    "y_hat = x1*results_lin.params[1]+results_lin.params[0]\n",
    "\n",
    "plt.plot(x1, y_hat, lw = 2.5, color = 'C8')\n",
    "plt.xlabel('SAT', fontsize = 20)\n",
    "plt.ylabel('Admitted', fontsize = 20)\n",
    "plt.show()"
   ]
  },
  {
   "cell_type": "markdown",
   "id": "fc12b7c8-850c-4ecb-b5d5-702d10e27eb9",
   "metadata": {},
   "source": [
    "This regression doesn't even know that our values are bounded between 0 and 1 which is pretty dumb\n",
    "\n",
    "Linear regression is a great technique but simply not fit for this kind of analysis which violates the assumption of the OLS on linearity.  Thus, we must use non-linear approaches."
   ]
  },
  {
   "cell_type": "markdown",
   "id": "8d72e2ca-1cf2-42a7-8296-4bd3a30447bc",
   "metadata": {},
   "source": [
    "### Plot with a logistic regression curve"
   ]
  },
  {
   "cell_type": "code",
   "execution_count": 8,
   "id": "2e3ce314-c4b0-4a10-a8ef-9115ebfdef1b",
   "metadata": {},
   "outputs": [
    {
     "name": "stdout",
     "output_type": "stream",
     "text": [
      "Optimization terminated successfully.\n",
      "         Current function value: 0.137766\n",
      "         Iterations 10\n"
     ]
    },
    {
     "data": {
      "image/png": "[encoded data removed]",
      "text/plain": [
       "<Figure size 432x288 with 1 Axes>"
      ]
     },
     "metadata": {},
     "output_type": "display_data"
    }
   ],
   "source": [
    "# what an appropriate regression line look like - useing the Logit function\n",
    "# it uses the logit 2 function to get a S-shaped(sigmoid)\n",
    "reg_log = sn.Logit(y,x)\n",
    "results_log = reg_log.fit()\n",
    "\n",
    "def f(x, b0, b1):\n",
    "    return np.array(np.exp(b0+x*b1) / (1 + np.exp(b0+x*b1)))\n",
    "\n",
    "f_sorted = np.sort(f(x1, results_log.params[0], results_log.params[1]))\n",
    "x_sorted = np.sort(np.array(x1))\n",
    "\n",
    "plt.scatter(x1, y, color = 'C0')\n",
    "plt.xlabel('SAT', fontsize = 20)\n",
    "plt.ylabel('Admitted', fontsize = 20)\n",
    "plt.plot(x_sorted, f_sorted, color = 'C8')\n",
    "plt.show()"
   ]
  },
  {
   "cell_type": "markdown",
   "id": "072a92ca-4295-431a-bb38-7be8ce26cced",
   "metadata": {},
   "source": [
    "This function shows the probability of admission given an SAT score.\n",
    "When the SAT score is relatively high, the probability of getting admitted is 1\n",
    "A score between 1600 and 1750 is uncertain"
   ]
  },
  {
   "cell_type": "markdown",
   "id": "30e788be-da5e-470e-8918-9164eea8b148",
   "metadata": {},
   "source": [
    "### Logistic vs logit function\n",
    "\n",
    "Logistic Regression Assumptions\n",
    "1. Linearity\n",
    "2. No endogeneity\n",
    "3. Normality and Homoscedasticity\n",
    "4. No autocorrelation\n",
    "5. No multicollinearity\n",
    "\n",
    "Logistic regression are non-linear\n",
    "\n",
    "#### Logistic regression\n",
    "This predicts the probability of an event occuring. It is defined by a logistic function. It is S-shaped. Input => Probability\n",
    "\n",
    "##### Explaining Odds: \n",
    "\n",
    "1. There are 2 probabilities when you throw a fair coin - Head or Tail => 50%\n",
    "\n",
    "The odds of getting heads = p(heads)/p(tails) = 50%/50% = 1/1\n",
    "\n",
    "2. Odds of getting a 6 in tossing a coin = p(getting)/p(not getting) = 1/6/5/6 = 1:5\n",
    "\n",
    "#### Logit Model\n",
    "\n",
    "It is much easier to use the logit form. "
   ]
  },
  {
   "cell_type": "markdown",
   "id": "825205d8-2d8c-4c37-81b6-098f97caa605",
   "metadata": {},
   "source": [
    "### Building a logistic regression\n",
    "\n",
    "#### Basics of logistics regression"
   ]
  },
  {
   "cell_type": "markdown",
   "id": "6300e1e9-f0a6-410f-be22-7f8d25fab67d",
   "metadata": {},
   "source": [
    "#### Import the relevant libraries as above"
   ]
  },
  {
   "cell_type": "code",
   "execution_count": 9,
   "id": "8fcc0691-7bb5-4fc4-b440-32bdaf304e7a",
   "metadata": {},
   "outputs": [],
   "source": [
    "# Load the data\n",
    "raw_data = pd.read_csv('C:\\\\Users\\\\AFC 2\\\\Documents\\\\Data Science Files\\\\Jupyter notebooks for Data Science\\\\2.01. Admittance.csv')"
   ]
  },
  {
   "cell_type": "code",
   "execution_count": 10,
   "id": "d039dbb6-5e1a-4876-8a35-6ea17b1c94b3",
   "metadata": {},
   "outputs": [
    {
     "data": {
      "text/html": [
       "<div>\n",
       "<style scoped>\n",
       "    .dataframe tbody tr th:only-of-type {\n",
       "        vertical-align: middle;\n",
       "    }\n",
       "\n",
       "    .dataframe tbody tr th {\n",
       "        vertical-align: top;\n",
       "    }\n",
       "\n",
       "    .dataframe thead th {\n",
       "        text-align: right;\n",
       "    }\n",
       "</style>\n",
       "<table border=\"1\" class=\"dataframe\">\n",
       "  <thead>\n",
       "    <tr style=\"text-align: right;\">\n",
       "      <th></th>\n",
       "      <th>SAT</th>\n",
       "      <th>Admitted</th>\n",
       "    </tr>\n",
       "  </thead>\n",
       "  <tbody>\n",
       "    <tr>\n",
       "      <th>0</th>\n",
       "      <td>1363</td>\n",
       "      <td>0</td>\n",
       "    </tr>\n",
       "    <tr>\n",
       "      <th>1</th>\n",
       "      <td>1792</td>\n",
       "      <td>1</td>\n",
       "    </tr>\n",
       "    <tr>\n",
       "      <th>2</th>\n",
       "      <td>1954</td>\n",
       "      <td>1</td>\n",
       "    </tr>\n",
       "    <tr>\n",
       "      <th>3</th>\n",
       "      <td>1653</td>\n",
       "      <td>0</td>\n",
       "    </tr>\n",
       "    <tr>\n",
       "      <th>4</th>\n",
       "      <td>1593</td>\n",
       "      <td>0</td>\n",
       "    </tr>\n",
       "    <tr>\n",
       "      <th>...</th>\n",
       "      <td>...</td>\n",
       "      <td>...</td>\n",
       "    </tr>\n",
       "    <tr>\n",
       "      <th>163</th>\n",
       "      <td>1722</td>\n",
       "      <td>1</td>\n",
       "    </tr>\n",
       "    <tr>\n",
       "      <th>164</th>\n",
       "      <td>1750</td>\n",
       "      <td>1</td>\n",
       "    </tr>\n",
       "    <tr>\n",
       "      <th>165</th>\n",
       "      <td>1555</td>\n",
       "      <td>0</td>\n",
       "    </tr>\n",
       "    <tr>\n",
       "      <th>166</th>\n",
       "      <td>1524</td>\n",
       "      <td>0</td>\n",
       "    </tr>\n",
       "    <tr>\n",
       "      <th>167</th>\n",
       "      <td>1461</td>\n",
       "      <td>0</td>\n",
       "    </tr>\n",
       "  </tbody>\n",
       "</table>\n",
       "<p>168 rows × 2 columns</p>\n",
       "</div>"
      ],
      "text/plain": [
       "      SAT  Admitted\n",
       "0    1363         0\n",
       "1    1792         1\n",
       "2    1954         1\n",
       "3    1653         0\n",
       "4    1593         0\n",
       "..    ...       ...\n",
       "163  1722         1\n",
       "164  1750         1\n",
       "165  1555         0\n",
       "166  1524         0\n",
       "167  1461         0\n",
       "\n",
       "[168 rows x 2 columns]"
      ]
     },
     "execution_count": 10,
     "metadata": {},
     "output_type": "execute_result"
    }
   ],
   "source": [
    "data = raw_data.copy()\n",
    "data['Admitted'] = data['Admitted'].map({'Yes':1, 'No':0})\n",
    "data"
   ]
  },
  {
   "cell_type": "markdown",
   "id": "9686e30e-b661-44c1-b514-92ef99d683ac",
   "metadata": {},
   "source": [
    "#### Declare the dependent and independent variables"
   ]
  },
  {
   "cell_type": "code",
   "execution_count": 11,
   "id": "9fbe8b86-e49c-4210-8cd8-6577810a1e15",
   "metadata": {},
   "outputs": [],
   "source": [
    "y = data['Admitted'] \n",
    "x1 = data['SAT']"
   ]
  },
  {
   "cell_type": "markdown",
   "id": "ee3ef68c-8875-4460-848e-7a61fa2aeba2",
   "metadata": {},
   "source": [
    "#### Regression"
   ]
  },
  {
   "cell_type": "code",
   "execution_count": 12,
   "id": "1c786fcf-1e85-470e-afc9-c7fa79e1e4d4",
   "metadata": {},
   "outputs": [
    {
     "name": "stdout",
     "output_type": "stream",
     "text": [
      "Optimization terminated successfully.\n",
      "         Current function value: 0.137766\n",
      "         Iterations 10\n"
     ]
    },
    {
     "name": "stderr",
     "output_type": "stream",
     "text": [
      "C:\\Users\\AFC 2\\anaconda3\\lib\\site-packages\\statsmodels\\tsa\\tsatools.py:142: FutureWarning: In a future version of pandas all arguments of concat except for the argument 'objs' will be keyword-only\n",
      "  x = pd.concat(x[::order], 1)\n"
     ]
    }
   ],
   "source": [
    "# Here, we add a constant\n",
    "x = sn.add_constant(x1)\n",
    "\n",
    "# we will now declare the regression in 2 steps\n",
    "reg_log = sn.Logit(y,x) # this replaces the OLS in linear regression\n",
    "\n",
    "# next we will fit the regression by declaring a new variable\n",
    "results_log = reg_log.fit() #results log"
   ]
  },
  {
   "cell_type": "markdown",
   "id": "d792fadc-18b5-4bd9-9601-35721e13b7cf",
   "metadata": {},
   "source": [
    "The message refers to the idea that statsmodel uses a machine learning algorithm to fit the regression. In statsmodel, the max number of iteration is 35 after which it stops trying."
   ]
  },
  {
   "cell_type": "markdown",
   "id": "3783376c-9f60-46a3-987b-f0fa95baf784",
   "metadata": {},
   "source": [
    "### An invaluable coding tip"
   ]
  },
  {
   "cell_type": "markdown",
   "id": "8c49a506-0296-4e21-a73a-30c228922dc4",
   "metadata": {},
   "source": [
    "#### Summary:\n",
    "\n",
    "The logistic regression summary and the linear regression summary are very much alike."
   ]
  },
  {
   "cell_type": "code",
   "execution_count": 13,
   "id": "d20cfce3-3dc7-40b1-be1a-9e7a10fed496",
   "metadata": {},
   "outputs": [
    {
     "data": {
      "text/html": [
       "<table class=\"simpletable\">\n",
       "<caption>Logit Regression Results</caption>\n",
       "<tr>\n",
       "  <th>Dep. Variable:</th>       <td>Admitted</td>     <th>  No. Observations:  </th>  <td>   168</td>  \n",
       "</tr>\n",
       "<tr>\n",
       "  <th>Model:</th>                 <td>Logit</td>      <th>  Df Residuals:      </th>  <td>   166</td>  \n",
       "</tr>\n",
       "<tr>\n",
       "  <th>Method:</th>                 <td>MLE</td>       <th>  Df Model:          </th>  <td>     1</td>  \n",
       "</tr>\n",
       "<tr>\n",
       "  <th>Date:</th>            <td>Mon, 30 Jan 2023</td> <th>  Pseudo R-squ.:     </th>  <td>0.7992</td>  \n",
       "</tr>\n",
       "<tr>\n",
       "  <th>Time:</th>                <td>20:23:04</td>     <th>  Log-Likelihood:    </th> <td> -23.145</td> \n",
       "</tr>\n",
       "<tr>\n",
       "  <th>converged:</th>             <td>True</td>       <th>  LL-Null:           </th> <td> -115.26</td> \n",
       "</tr>\n",
       "<tr>\n",
       "  <th>Covariance Type:</th>     <td>nonrobust</td>    <th>  LLR p-value:       </th> <td>5.805e-42</td>\n",
       "</tr>\n",
       "</table>\n",
       "<table class=\"simpletable\">\n",
       "<tr>\n",
       "    <td></td>       <th>coef</th>     <th>std err</th>      <th>z</th>      <th>P>|z|</th>  <th>[0.025</th>    <th>0.975]</th>  \n",
       "</tr>\n",
       "<tr>\n",
       "  <th>const</th> <td>  -69.9128</td> <td>   15.737</td> <td>   -4.443</td> <td> 0.000</td> <td> -100.756</td> <td>  -39.070</td>\n",
       "</tr>\n",
       "<tr>\n",
       "  <th>SAT</th>   <td>    0.0420</td> <td>    0.009</td> <td>    4.454</td> <td> 0.000</td> <td>    0.024</td> <td>    0.060</td>\n",
       "</tr>\n",
       "</table><br/><br/>Possibly complete quasi-separation: A fraction 0.27 of observations can be<br/>perfectly predicted. This might indicate that there is complete<br/>quasi-separation. In this case some parameters will not be identified."
      ],
      "text/plain": [
       "<class 'statsmodels.iolib.summary.Summary'>\n",
       "\"\"\"\n",
       "                           Logit Regression Results                           \n",
       "==============================================================================\n",
       "Dep. Variable:               Admitted   No. Observations:                  168\n",
       "Model:                          Logit   Df Residuals:                      166\n",
       "Method:                           MLE   Df Model:                            1\n",
       "Date:                Mon, 30 Jan 2023   Pseudo R-squ.:                  0.7992\n",
       "Time:                        20:23:04   Log-Likelihood:                -23.145\n",
       "converged:                       True   LL-Null:                       -115.26\n",
       "Covariance Type:            nonrobust   LLR p-value:                 5.805e-42\n",
       "==============================================================================\n",
       "                 coef    std err          z      P>|z|      [0.025      0.975]\n",
       "------------------------------------------------------------------------------\n",
       "const        -69.9128     15.737     -4.443      0.000    -100.756     -39.070\n",
       "SAT            0.0420      0.009      4.454      0.000       0.024       0.060\n",
       "==============================================================================\n",
       "\n",
       "Possibly complete quasi-separation: A fraction 0.27 of observations can be\n",
       "perfectly predicted. This might indicate that there is complete\n",
       "quasi-separation. In this case some parameters will not be identified.\n",
       "\"\"\""
      ]
     },
     "execution_count": 13,
     "metadata": {},
     "output_type": "execute_result"
    }
   ],
   "source": [
    "results_log.summary() # No error?"
   ]
  },
  {
   "cell_type": "markdown",
   "id": "a8462f08-5a41-49f0-b5d2-c08794fc5b3b",
   "metadata": {},
   "source": [
    "As statsmodel is based on scipy and both are open source, problems arise from time to time (see discussion on github)\n",
    "\n",
    "In some situations, copy the error message and google it.\n",
    "\n",
    "There are two take aways from this lecture:\n",
    "1. Open-source projects like Python and its libraries are not immaculate. Some functionalities can just stop working in the next update.\n",
    "2. Work arounds are out there waiting for you to find them. The internet is a big enough space for problems and solutions."
   ]
  },
  {
   "cell_type": "markdown",
   "id": "5b130313-0d26-40e5-a65c-3f7530dc1694",
   "metadata": {},
   "source": [
    "### Understanding the tables"
   ]
  },
  {
   "cell_type": "markdown",
   "id": "4dfe69e9-3c8c-43cd-8458-e0139238039b",
   "metadata": {},
   "source": [
    "##### Maximum likelihood estimation(MLE) \n",
    "\n",
    "Likelihood function: This a function which estimates how likely it is that the model at hand describes the real underlying relationship of the variables - the bigger the likelihood function, the higher the probability that our model is correct.\n",
    "\n",
    "MLE tries to maximize the likelihood function. The computer is going through different values until it finds a model for which the likelihood is the highest. When it can no longer improve, it will just stop the optimization.\n",
    "\n",
    "##### Log likelihood\n",
    "\n",
    "It is the more popular metric. The value of the Log-likelihood is almost but not always negative and the bigger it is, the better.\n",
    "\n",
    "##### LL-Null (Log likelihood-null)\n",
    "\n",
    "The log-likehood of a model which has no independent variables. It helps to see the loopholes in our model. It is seen as useless"
   ]
  },
  {
   "cell_type": "code",
   "execution_count": 14,
   "id": "96d6b359-1ee6-43e4-80f8-83b8c9b97e4e",
   "metadata": {},
   "outputs": [
    {
     "name": "stdout",
     "output_type": "stream",
     "text": [
      "Optimization terminated successfully.\n",
      "         Current function value: 0.686044\n",
      "         Iterations 4\n"
     ]
    },
    {
     "data": {
      "text/html": [
       "<table class=\"simpletable\">\n",
       "<caption>Logit Regression Results</caption>\n",
       "<tr>\n",
       "  <th>Dep. Variable:</th>       <td>Admitted</td>     <th>  No. Observations:  </th>  <td>   168</td>  \n",
       "</tr>\n",
       "<tr>\n",
       "  <th>Model:</th>                 <td>Logit</td>      <th>  Df Residuals:      </th>  <td>   167</td>  \n",
       "</tr>\n",
       "<tr>\n",
       "  <th>Method:</th>                 <td>MLE</td>       <th>  Df Model:          </th>  <td>     0</td>  \n",
       "</tr>\n",
       "<tr>\n",
       "  <th>Date:</th>            <td>Mon, 30 Jan 2023</td> <th>  Pseudo R-squ.:     </th> <td>7.410e-11</td>\n",
       "</tr>\n",
       "<tr>\n",
       "  <th>Time:</th>                <td>20:23:04</td>     <th>  Log-Likelihood:    </th> <td> -115.26</td> \n",
       "</tr>\n",
       "<tr>\n",
       "  <th>converged:</th>             <td>True</td>       <th>  LL-Null:           </th> <td> -115.26</td> \n",
       "</tr>\n",
       "<tr>\n",
       "  <th>Covariance Type:</th>     <td>nonrobust</td>    <th>  LLR p-value:       </th>  <td>   nan</td>  \n",
       "</tr>\n",
       "</table>\n",
       "<table class=\"simpletable\">\n",
       "<tr>\n",
       "    <td></td>       <th>coef</th>     <th>std err</th>      <th>z</th>      <th>P>|z|</th>  <th>[0.025</th>    <th>0.975]</th>  \n",
       "</tr>\n",
       "<tr>\n",
       "  <th>const</th> <td>    0.2392</td> <td>    0.155</td> <td>    1.539</td> <td> 0.124</td> <td>   -0.065</td> <td>    0.544</td>\n",
       "</tr>\n",
       "</table>"
      ],
      "text/plain": [
       "<class 'statsmodels.iolib.summary.Summary'>\n",
       "\"\"\"\n",
       "                           Logit Regression Results                           \n",
       "==============================================================================\n",
       "Dep. Variable:               Admitted   No. Observations:                  168\n",
       "Model:                          Logit   Df Residuals:                      167\n",
       "Method:                           MLE   Df Model:                            0\n",
       "Date:                Mon, 30 Jan 2023   Pseudo R-squ.:               7.410e-11\n",
       "Time:                        20:23:04   Log-Likelihood:                -115.26\n",
       "converged:                       True   LL-Null:                       -115.26\n",
       "Covariance Type:            nonrobust   LLR p-value:                       nan\n",
       "==============================================================================\n",
       "                 coef    std err          z      P>|z|      [0.025      0.975]\n",
       "------------------------------------------------------------------------------\n",
       "const          0.2392      0.155      1.539      0.124      -0.065       0.544\n",
       "==============================================================================\n",
       "\"\"\""
      ]
     },
     "execution_count": 14,
     "metadata": {},
     "output_type": "execute_result"
    }
   ],
   "source": [
    "x0 = np.ones(168)\n",
    "reg_log = sn.Logit(y, x0)\n",
    "results_log = reg_log.fit()\n",
    "results_log.summary()"
   ]
  },
  {
   "cell_type": "markdown",
   "id": "3b166992-c4f9-409f-afdf-b658337f5fdf",
   "metadata": {},
   "source": [
    "You may want to compare the log-likelihood of your model with the LL-null to see if it your model has any explanatory power."
   ]
  },
  {
   "cell_type": "markdown",
   "id": "e29560e5-d50e-4e35-9579-3704008600bf",
   "metadata": {},
   "source": [
    "##### LLR(Log likelihood ratio)\n",
    "\n",
    "It is based on the log-likelihood of the model and the LL-null. It measures if our model is statistically differnet from the LL-null a.k.a. a useless model\n",
    "\n",
    "##### Pseudo R-squared\n",
    "\n",
    "McFadden's R-squared: According to him, a good Pseudo R-squared is somewhere between 0.2 and 0.4. \n",
    "It is mostly useful for comparing the variations of the same model.\n",
    "Different models will have a completely different and incomparable Pseudo R-squares.\n",
    "\n",
    "##### Coefficients\n",
    "\n",
    "Logit model: SAT - Admittance regression\n",
    "\n",
    "\n"
   ]
  },
  {
   "cell_type": "markdown",
   "id": "e597dab6-0ff0-4942-857d-b9ae0064bb3a",
   "metadata": {},
   "source": [
    "#### Binary predictors in a logistic regression\n",
    "\n",
    "In the same way we create dummies for linear regression, we can use binary predictors in a logistics regression."
   ]
  },
  {
   "cell_type": "code",
   "execution_count": 15,
   "id": "4e9393cf-ab81-4cf0-9d9d-0767b145b844",
   "metadata": {},
   "outputs": [],
   "source": [
    "# Import the relevant libraries\n",
    "import numpy as np\n",
    "import pandas as pd\n",
    "import statsmodels.api as sn\n",
    "import matplotlib.pyplot as plt\n",
    "import seaborn as sns\n",
    "sns.set()\n",
    "\n",
    "#Apply a fix to the statsmodels library\n",
    "from scipy import stats\n",
    "stats.chisqprob = lambda chisq, df: stats.chi2.sf(chisq, df)"
   ]
  },
  {
   "cell_type": "markdown",
   "id": "3ac7ea97-d179-42ce-bccf-29c18ad3cb81",
   "metadata": {},
   "source": [
    "#### Load the data"
   ]
  },
  {
   "cell_type": "code",
   "execution_count": 16,
   "id": "931de17e-0ebf-45a1-9210-179ceb7f326e",
   "metadata": {},
   "outputs": [
    {
     "data": {
      "text/html": [
       "<div>\n",
       "<style scoped>\n",
       "    .dataframe tbody tr th:only-of-type {\n",
       "        vertical-align: middle;\n",
       "    }\n",
       "\n",
       "    .dataframe tbody tr th {\n",
       "        vertical-align: top;\n",
       "    }\n",
       "\n",
       "    .dataframe thead th {\n",
       "        text-align: right;\n",
       "    }\n",
       "</style>\n",
       "<table border=\"1\" class=\"dataframe\">\n",
       "  <thead>\n",
       "    <tr style=\"text-align: right;\">\n",
       "      <th></th>\n",
       "      <th>SAT</th>\n",
       "      <th>Admitted</th>\n",
       "      <th>Gender</th>\n",
       "    </tr>\n",
       "  </thead>\n",
       "  <tbody>\n",
       "    <tr>\n",
       "      <th>0</th>\n",
       "      <td>1363</td>\n",
       "      <td>No</td>\n",
       "      <td>Male</td>\n",
       "    </tr>\n",
       "    <tr>\n",
       "      <th>1</th>\n",
       "      <td>1792</td>\n",
       "      <td>Yes</td>\n",
       "      <td>Female</td>\n",
       "    </tr>\n",
       "    <tr>\n",
       "      <th>2</th>\n",
       "      <td>1954</td>\n",
       "      <td>Yes</td>\n",
       "      <td>Female</td>\n",
       "    </tr>\n",
       "    <tr>\n",
       "      <th>3</th>\n",
       "      <td>1653</td>\n",
       "      <td>No</td>\n",
       "      <td>Male</td>\n",
       "    </tr>\n",
       "    <tr>\n",
       "      <th>4</th>\n",
       "      <td>1593</td>\n",
       "      <td>No</td>\n",
       "      <td>Male</td>\n",
       "    </tr>\n",
       "    <tr>\n",
       "      <th>...</th>\n",
       "      <td>...</td>\n",
       "      <td>...</td>\n",
       "      <td>...</td>\n",
       "    </tr>\n",
       "    <tr>\n",
       "      <th>163</th>\n",
       "      <td>1722</td>\n",
       "      <td>Yes</td>\n",
       "      <td>Female</td>\n",
       "    </tr>\n",
       "    <tr>\n",
       "      <th>164</th>\n",
       "      <td>1750</td>\n",
       "      <td>Yes</td>\n",
       "      <td>Male</td>\n",
       "    </tr>\n",
       "    <tr>\n",
       "      <th>165</th>\n",
       "      <td>1555</td>\n",
       "      <td>No</td>\n",
       "      <td>Male</td>\n",
       "    </tr>\n",
       "    <tr>\n",
       "      <th>166</th>\n",
       "      <td>1524</td>\n",
       "      <td>No</td>\n",
       "      <td>Male</td>\n",
       "    </tr>\n",
       "    <tr>\n",
       "      <th>167</th>\n",
       "      <td>1461</td>\n",
       "      <td>No</td>\n",
       "      <td>Male</td>\n",
       "    </tr>\n",
       "  </tbody>\n",
       "</table>\n",
       "<p>168 rows × 3 columns</p>\n",
       "</div>"
      ],
      "text/plain": [
       "      SAT Admitted  Gender\n",
       "0    1363       No    Male\n",
       "1    1792      Yes  Female\n",
       "2    1954      Yes  Female\n",
       "3    1653       No    Male\n",
       "4    1593       No    Male\n",
       "..    ...      ...     ...\n",
       "163  1722      Yes  Female\n",
       "164  1750      Yes    Male\n",
       "165  1555       No    Male\n",
       "166  1524       No    Male\n",
       "167  1461       No    Male\n",
       "\n",
       "[168 rows x 3 columns]"
      ]
     },
     "execution_count": 16,
     "metadata": {},
     "output_type": "execute_result"
    }
   ],
   "source": [
    "raw_data = pd.read_csv('C:\\\\Users\\\\AFC 2\\\\Documents\\\\Data Science Files\\\\Jupyter notebooks for Data Science\\\\2.02. Binary predictors.csv')\n",
    "raw_data"
   ]
  },
  {
   "cell_type": "code",
   "execution_count": 17,
   "id": "825103ec-6430-4ea3-ad99-aac858dcb1cc",
   "metadata": {},
   "outputs": [
    {
     "data": {
      "text/html": [
       "<div>\n",
       "<style scoped>\n",
       "    .dataframe tbody tr th:only-of-type {\n",
       "        vertical-align: middle;\n",
       "    }\n",
       "\n",
       "    .dataframe tbody tr th {\n",
       "        vertical-align: top;\n",
       "    }\n",
       "\n",
       "    .dataframe thead th {\n",
       "        text-align: right;\n",
       "    }\n",
       "</style>\n",
       "<table border=\"1\" class=\"dataframe\">\n",
       "  <thead>\n",
       "    <tr style=\"text-align: right;\">\n",
       "      <th></th>\n",
       "      <th>SAT</th>\n",
       "      <th>Admitted</th>\n",
       "      <th>Gender</th>\n",
       "    </tr>\n",
       "  </thead>\n",
       "  <tbody>\n",
       "    <tr>\n",
       "      <th>0</th>\n",
       "      <td>1363</td>\n",
       "      <td>0</td>\n",
       "      <td>0</td>\n",
       "    </tr>\n",
       "    <tr>\n",
       "      <th>1</th>\n",
       "      <td>1792</td>\n",
       "      <td>1</td>\n",
       "      <td>1</td>\n",
       "    </tr>\n",
       "    <tr>\n",
       "      <th>2</th>\n",
       "      <td>1954</td>\n",
       "      <td>1</td>\n",
       "      <td>1</td>\n",
       "    </tr>\n",
       "    <tr>\n",
       "      <th>3</th>\n",
       "      <td>1653</td>\n",
       "      <td>0</td>\n",
       "      <td>0</td>\n",
       "    </tr>\n",
       "    <tr>\n",
       "      <th>4</th>\n",
       "      <td>1593</td>\n",
       "      <td>0</td>\n",
       "      <td>0</td>\n",
       "    </tr>\n",
       "    <tr>\n",
       "      <th>...</th>\n",
       "      <td>...</td>\n",
       "      <td>...</td>\n",
       "      <td>...</td>\n",
       "    </tr>\n",
       "    <tr>\n",
       "      <th>163</th>\n",
       "      <td>1722</td>\n",
       "      <td>1</td>\n",
       "      <td>1</td>\n",
       "    </tr>\n",
       "    <tr>\n",
       "      <th>164</th>\n",
       "      <td>1750</td>\n",
       "      <td>1</td>\n",
       "      <td>0</td>\n",
       "    </tr>\n",
       "    <tr>\n",
       "      <th>165</th>\n",
       "      <td>1555</td>\n",
       "      <td>0</td>\n",
       "      <td>0</td>\n",
       "    </tr>\n",
       "    <tr>\n",
       "      <th>166</th>\n",
       "      <td>1524</td>\n",
       "      <td>0</td>\n",
       "      <td>0</td>\n",
       "    </tr>\n",
       "    <tr>\n",
       "      <th>167</th>\n",
       "      <td>1461</td>\n",
       "      <td>0</td>\n",
       "      <td>0</td>\n",
       "    </tr>\n",
       "  </tbody>\n",
       "</table>\n",
       "<p>168 rows × 3 columns</p>\n",
       "</div>"
      ],
      "text/plain": [
       "      SAT  Admitted  Gender\n",
       "0    1363         0       0\n",
       "1    1792         1       1\n",
       "2    1954         1       1\n",
       "3    1653         0       0\n",
       "4    1593         0       0\n",
       "..    ...       ...     ...\n",
       "163  1722         1       1\n",
       "164  1750         1       0\n",
       "165  1555         0       0\n",
       "166  1524         0       0\n",
       "167  1461         0       0\n",
       "\n",
       "[168 rows x 3 columns]"
      ]
     },
     "execution_count": 17,
     "metadata": {},
     "output_type": "execute_result"
    }
   ],
   "source": [
    "data = raw_data.copy()\n",
    "data['Admitted'] = data['Admitted'].map({'Yes':1, 'No':0})\n",
    "data['Gender'] = data['Gender'].map({'Female':1, 'Male':0})\n",
    "data"
   ]
  },
  {
   "cell_type": "markdown",
   "id": "b37ba102-1cb7-4708-b573-422c5f89871e",
   "metadata": {},
   "source": [
    "#### Declare the dependent and independent variables"
   ]
  },
  {
   "cell_type": "code",
   "execution_count": 18,
   "id": "d26b61db-8cfa-4ff9-ad6b-f87e1d1e2eff",
   "metadata": {},
   "outputs": [],
   "source": [
    "y = data['Admitted']\n",
    "x1 = data['Gender']"
   ]
  },
  {
   "cell_type": "markdown",
   "id": "e31c7ba7-4a4e-4028-8759-3f8b26f2c250",
   "metadata": {},
   "source": [
    "#### Regression"
   ]
  },
  {
   "cell_type": "code",
   "execution_count": 19,
   "id": "fd352c42-8d6d-42e2-9ac8-a3a0b74df4b7",
   "metadata": {},
   "outputs": [
    {
     "name": "stdout",
     "output_type": "stream",
     "text": [
      "Optimization terminated successfully.\n",
      "         Current function value: 0.572260\n",
      "         Iterations 5\n"
     ]
    },
    {
     "name": "stderr",
     "output_type": "stream",
     "text": [
      "C:\\Users\\AFC 2\\anaconda3\\lib\\site-packages\\statsmodels\\tsa\\tsatools.py:142: FutureWarning: In a future version of pandas all arguments of concat except for the argument 'objs' will be keyword-only\n",
      "  x = pd.concat(x[::order], 1)\n"
     ]
    },
    {
     "data": {
      "text/html": [
       "<table class=\"simpletable\">\n",
       "<caption>Logit Regression Results</caption>\n",
       "<tr>\n",
       "  <th>Dep. Variable:</th>       <td>Admitted</td>     <th>  No. Observations:  </th>  <td>   168</td>  \n",
       "</tr>\n",
       "<tr>\n",
       "  <th>Model:</th>                 <td>Logit</td>      <th>  Df Residuals:      </th>  <td>   166</td>  \n",
       "</tr>\n",
       "<tr>\n",
       "  <th>Method:</th>                 <td>MLE</td>       <th>  Df Model:          </th>  <td>     1</td>  \n",
       "</tr>\n",
       "<tr>\n",
       "  <th>Date:</th>            <td>Mon, 30 Jan 2023</td> <th>  Pseudo R-squ.:     </th>  <td>0.1659</td>  \n",
       "</tr>\n",
       "<tr>\n",
       "  <th>Time:</th>                <td>20:23:04</td>     <th>  Log-Likelihood:    </th> <td> -96.140</td> \n",
       "</tr>\n",
       "<tr>\n",
       "  <th>converged:</th>             <td>True</td>       <th>  LL-Null:           </th> <td> -115.26</td> \n",
       "</tr>\n",
       "<tr>\n",
       "  <th>Covariance Type:</th>     <td>nonrobust</td>    <th>  LLR p-value:       </th> <td>6.283e-10</td>\n",
       "</tr>\n",
       "</table>\n",
       "<table class=\"simpletable\">\n",
       "<tr>\n",
       "     <td></td>       <th>coef</th>     <th>std err</th>      <th>z</th>      <th>P>|z|</th>  <th>[0.025</th>    <th>0.975]</th>  \n",
       "</tr>\n",
       "<tr>\n",
       "  <th>const</th>  <td>   -0.6436</td> <td>    0.222</td> <td>   -2.901</td> <td> 0.004</td> <td>   -1.078</td> <td>   -0.209</td>\n",
       "</tr>\n",
       "<tr>\n",
       "  <th>Gender</th> <td>    2.0786</td> <td>    0.363</td> <td>    5.727</td> <td> 0.000</td> <td>    1.367</td> <td>    2.790</td>\n",
       "</tr>\n",
       "</table>"
      ],
      "text/plain": [
       "<class 'statsmodels.iolib.summary.Summary'>\n",
       "\"\"\"\n",
       "                           Logit Regression Results                           \n",
       "==============================================================================\n",
       "Dep. Variable:               Admitted   No. Observations:                  168\n",
       "Model:                          Logit   Df Residuals:                      166\n",
       "Method:                           MLE   Df Model:                            1\n",
       "Date:                Mon, 30 Jan 2023   Pseudo R-squ.:                  0.1659\n",
       "Time:                        20:23:04   Log-Likelihood:                -96.140\n",
       "converged:                       True   LL-Null:                       -115.26\n",
       "Covariance Type:            nonrobust   LLR p-value:                 6.283e-10\n",
       "==============================================================================\n",
       "                 coef    std err          z      P>|z|      [0.025      0.975]\n",
       "------------------------------------------------------------------------------\n",
       "const         -0.6436      0.222     -2.901      0.004      -1.078      -0.209\n",
       "Gender         2.0786      0.363      5.727      0.000       1.367       2.790\n",
       "==============================================================================\n",
       "\"\"\""
      ]
     },
     "execution_count": 19,
     "metadata": {},
     "output_type": "execute_result"
    }
   ],
   "source": [
    "x = sn.add_constant(x1)\n",
    "reg_log = sn.Logit(y, x)\n",
    "results_log = reg_log.fit()\n",
    "results_log.summary()"
   ]
  },
  {
   "cell_type": "markdown",
   "id": "2437ae95-86ef-4520-83b7-671c46b0129d",
   "metadata": {},
   "source": [
    "The model is significant(p-value:6.283) as well as the gender variable. SAT was an outstanding predictor"
   ]
  },
  {
   "cell_type": "code",
   "execution_count": 20,
   "id": "50dcf0b5-7b81-4fe1-9cfa-38d90120e126",
   "metadata": {},
   "outputs": [
    {
     "data": {
      "text/plain": [
       "7.993270498536442"
      ]
     },
     "execution_count": 20,
     "metadata": {},
     "output_type": "execute_result"
    }
   ],
   "source": [
    "np.exp(2.0786)"
   ]
  },
  {
   "cell_type": "markdown",
   "id": "63d7e4a0-f622-414e-8968-2a3311e41295",
   "metadata": {},
   "source": [
    "We know that there was a strong relationship between the SAT score and admittance. We will now create a new regression including both predictors."
   ]
  },
  {
   "cell_type": "markdown",
   "id": "a5c1db4d-c535-4881-860b-2eaaf8177eba",
   "metadata": {},
   "source": [
    "#### Declare the dependent and independent variables using the SAT and Admittance"
   ]
  },
  {
   "cell_type": "code",
   "execution_count": 21,
   "id": "e2a78ad2-afb9-46dc-b48c-1644ceda425f",
   "metadata": {},
   "outputs": [],
   "source": [
    "y = data['Admitted']\n",
    "x1 = data[['SAT', 'Gender']]"
   ]
  },
  {
   "cell_type": "code",
   "execution_count": 22,
   "id": "3649ecef-5e7a-42f5-9929-cf045e5d2487",
   "metadata": {},
   "outputs": [
    {
     "name": "stdout",
     "output_type": "stream",
     "text": [
      "Optimization terminated successfully.\n",
      "         Current function value: 0.120117\n",
      "         Iterations 10\n"
     ]
    },
    {
     "name": "stderr",
     "output_type": "stream",
     "text": [
      "C:\\Users\\AFC 2\\anaconda3\\lib\\site-packages\\statsmodels\\tsa\\tsatools.py:142: FutureWarning: In a future version of pandas all arguments of concat except for the argument 'objs' will be keyword-only\n",
      "  x = pd.concat(x[::order], 1)\n"
     ]
    },
    {
     "data": {
      "text/html": [
       "<table class=\"simpletable\">\n",
       "<caption>Logit Regression Results</caption>\n",
       "<tr>\n",
       "  <th>Dep. Variable:</th>       <td>Admitted</td>     <th>  No. Observations:  </th>  <td>   168</td>  \n",
       "</tr>\n",
       "<tr>\n",
       "  <th>Model:</th>                 <td>Logit</td>      <th>  Df Residuals:      </th>  <td>   165</td>  \n",
       "</tr>\n",
       "<tr>\n",
       "  <th>Method:</th>                 <td>MLE</td>       <th>  Df Model:          </th>  <td>     2</td>  \n",
       "</tr>\n",
       "<tr>\n",
       "  <th>Date:</th>            <td>Mon, 30 Jan 2023</td> <th>  Pseudo R-squ.:     </th>  <td>0.8249</td>  \n",
       "</tr>\n",
       "<tr>\n",
       "  <th>Time:</th>                <td>20:23:04</td>     <th>  Log-Likelihood:    </th> <td> -20.180</td> \n",
       "</tr>\n",
       "<tr>\n",
       "  <th>converged:</th>             <td>True</td>       <th>  LL-Null:           </th> <td> -115.26</td> \n",
       "</tr>\n",
       "<tr>\n",
       "  <th>Covariance Type:</th>     <td>nonrobust</td>    <th>  LLR p-value:       </th> <td>5.118e-42</td>\n",
       "</tr>\n",
       "</table>\n",
       "<table class=\"simpletable\">\n",
       "<tr>\n",
       "     <td></td>       <th>coef</th>     <th>std err</th>      <th>z</th>      <th>P>|z|</th>  <th>[0.025</th>    <th>0.975]</th>  \n",
       "</tr>\n",
       "<tr>\n",
       "  <th>const</th>  <td>  -68.3489</td> <td>   16.454</td> <td>   -4.154</td> <td> 0.000</td> <td> -100.598</td> <td>  -36.100</td>\n",
       "</tr>\n",
       "<tr>\n",
       "  <th>SAT</th>    <td>    0.0406</td> <td>    0.010</td> <td>    4.129</td> <td> 0.000</td> <td>    0.021</td> <td>    0.060</td>\n",
       "</tr>\n",
       "<tr>\n",
       "  <th>Gender</th> <td>    1.9449</td> <td>    0.846</td> <td>    2.299</td> <td> 0.022</td> <td>    0.287</td> <td>    3.603</td>\n",
       "</tr>\n",
       "</table><br/><br/>Possibly complete quasi-separation: A fraction 0.27 of observations can be<br/>perfectly predicted. This might indicate that there is complete<br/>quasi-separation. In this case some parameters will not be identified."
      ],
      "text/plain": [
       "<class 'statsmodels.iolib.summary.Summary'>\n",
       "\"\"\"\n",
       "                           Logit Regression Results                           \n",
       "==============================================================================\n",
       "Dep. Variable:               Admitted   No. Observations:                  168\n",
       "Model:                          Logit   Df Residuals:                      165\n",
       "Method:                           MLE   Df Model:                            2\n",
       "Date:                Mon, 30 Jan 2023   Pseudo R-squ.:                  0.8249\n",
       "Time:                        20:23:04   Log-Likelihood:                -20.180\n",
       "converged:                       True   LL-Null:                       -115.26\n",
       "Covariance Type:            nonrobust   LLR p-value:                 5.118e-42\n",
       "==============================================================================\n",
       "                 coef    std err          z      P>|z|      [0.025      0.975]\n",
       "------------------------------------------------------------------------------\n",
       "const        -68.3489     16.454     -4.154      0.000    -100.598     -36.100\n",
       "SAT            0.0406      0.010      4.129      0.000       0.021       0.060\n",
       "Gender         1.9449      0.846      2.299      0.022       0.287       3.603\n",
       "==============================================================================\n",
       "\n",
       "Possibly complete quasi-separation: A fraction 0.27 of observations can be\n",
       "perfectly predicted. This might indicate that there is complete\n",
       "quasi-separation. In this case some parameters will not be identified.\n",
       "\"\"\""
      ]
     },
     "execution_count": 22,
     "metadata": {},
     "output_type": "execute_result"
    }
   ],
   "source": [
    "x = sn.add_constant(x1)\n",
    "reg_log = sn.Logit(y, x)\n",
    "results_log = reg_log.fit()\n",
    "results_log.summary()"
   ]
  },
  {
   "cell_type": "markdown",
   "id": "d277633b-f7fd-4a4f-9cf9-ba4c1d93bcf0",
   "metadata": {},
   "source": [
    "What we get is a regression with much higher Log-Likelihood(a better one)."
   ]
  },
  {
   "cell_type": "code",
   "execution_count": 23,
   "id": "74397050-d06f-4ad3-a47d-26e068a80842",
   "metadata": {},
   "outputs": [
    {
     "data": {
      "text/plain": [
       "6.992932526814459"
      ]
     },
     "execution_count": 23,
     "metadata": {},
     "output_type": "execute_result"
    }
   ],
   "source": [
    "#New coefficient of Gender\n",
    "np.exp(1.9449)"
   ]
  },
  {
   "cell_type": "markdown",
   "id": "74c5995b-f5b5-49eb-bcb4-bc49935db903",
   "metadata": {},
   "source": [
    "Interpretation: Given the same SAT score, a female is 7 times more likely to be admitted than a male. In this university, it is much easier for females to be admitted. It is a common situation in the real world."
   ]
  },
  {
   "cell_type": "markdown",
   "id": "e799383a-46a8-41b9-9b32-815637490ac7",
   "metadata": {},
   "source": [
    "#### Calculating the accuracy of the model"
   ]
  },
  {
   "cell_type": "markdown",
   "id": "aea2079d-43bf-44c0-8a20-e029126ce81c",
   "metadata": {},
   "source": [
    "### Accuracy"
   ]
  },
  {
   "cell_type": "code",
   "execution_count": 24,
   "id": "106aa688-ac51-4fe1-8cea-be6d895e9e62",
   "metadata": {},
   "outputs": [
    {
     "data": {
      "text/plain": [
       "array([2.24098643e-06, 9.98264069e-01, 9.99997581e-01, 2.25470272e-01,\n",
       "       2.48392751e-02, 9.92249420e-01, 9.96544212e-01, 9.99963261e-01,\n",
       "       9.99971204e-01, 1.48031753e-02, 9.99875812e-01, 9.99951185e-01,\n",
       "       7.60867651e-01, 2.33384671e-06, 5.96283811e-01, 9.99834996e-01,\n",
       "       1.14446654e-01, 1.18626448e-01, 5.05147726e-01, 9.99865308e-01,\n",
       "       9.99999366e-01, 9.99997048e-01, 1.71939595e-04, 5.61635704e-03,\n",
       "       9.68663798e-01, 9.99644611e-01, 4.84851641e-01, 9.91962775e-01,\n",
       "       9.99828160e-01, 9.94609023e-01, 1.15028367e-04, 8.32585363e-01,\n",
       "       2.47449367e-01, 9.99998840e-01, 9.98847293e-01, 9.99372736e-01,\n",
       "       3.12716933e-01, 9.99932453e-01, 2.32639633e-01, 5.29744519e-05,\n",
       "       1.95739604e-02, 4.54521689e-01, 9.99956956e-01, 2.97763113e-06,\n",
       "       9.94178832e-01, 1.77714430e-05, 9.93914956e-01, 2.29360536e-04,\n",
       "       3.30501192e-04, 6.89914934e-03, 4.24966754e-03, 9.99999657e-01,\n",
       "       9.23952460e-01, 2.28569785e-02, 9.99994550e-01, 5.47478329e-06,\n",
       "       3.67295456e-01, 9.82709744e-01, 1.18626448e-01, 9.96812884e-01,\n",
       "       4.42498320e-03, 7.83001539e-01, 9.99992146e-01, 9.98405619e-01,\n",
       "       9.84722411e-01, 4.16877326e-05, 5.93790185e-06, 1.36735818e-03,\n",
       "       9.99998969e-01, 4.16877326e-05, 7.76023661e-01, 1.18626448e-01,\n",
       "       9.45435107e-04, 9.88912497e-01, 9.99058879e-01, 9.99982380e-01,\n",
       "       1.65760554e-04, 3.04057622e-01, 9.99983689e-01, 9.99999439e-01,\n",
       "       3.20169382e-03, 9.99092676e-01, 9.99998514e-01, 8.54018056e-01,\n",
       "       9.99999841e-01, 9.99999797e-01, 1.94984937e-04, 9.99993869e-01,\n",
       "       9.97874170e-01, 8.90053126e-01, 8.26849331e-01, 1.66794418e-03,\n",
       "       9.82709744e-01, 9.68663798e-01, 4.57280919e-04, 9.99988727e-01,\n",
       "       9.99780769e-01, 3.01439361e-02, 9.94609023e-01, 9.57153060e-01,\n",
       "       9.96544212e-01, 2.05076737e-03, 9.97289354e-01, 1.42225547e-02,\n",
       "       1.15939831e-02, 9.96939307e-01, 9.95595140e-01, 9.99525954e-01,\n",
       "       2.69794875e-04, 1.35309631e-04, 2.29464135e-02, 3.30429262e-01,\n",
       "       9.38962885e-05, 9.99994550e-01, 8.54173688e-02, 6.90365056e-07,\n",
       "       9.69873058e-01, 2.11475559e-04, 7.45781524e-01, 9.99894427e-01,\n",
       "       9.99994975e-01, 1.07417839e-02, 5.61635704e-03, 3.40287420e-05,\n",
       "       9.99968769e-01, 4.42498320e-03, 9.86397174e-01, 5.66650756e-01,\n",
       "       5.36533219e-01, 8.69014312e-01, 8.26849331e-01, 2.11475559e-04,\n",
       "       9.99998252e-01, 2.13556422e-03, 4.21630759e-04, 6.32662368e-04,\n",
       "       9.99998926e-01, 4.30350893e-02, 1.14569602e-04, 5.87100388e-03,\n",
       "       9.96267866e-01, 9.93664406e-01, 5.16291768e-01, 9.96252976e-01,\n",
       "       9.99562910e-01, 5.40573324e-02, 8.75249154e-04, 3.50270235e-06,\n",
       "       1.09176200e-05, 6.80358735e-01, 9.99997769e-01, 9.99960313e-01,\n",
       "       9.97609015e-01, 9.99798670e-01, 9.99643188e-01, 3.44191566e-04,\n",
       "       9.99999929e-01, 9.98847293e-01, 3.66799700e-02, 9.99999834e-01,\n",
       "       2.48392751e-02, 9.99994550e-01, 9.93689517e-01, 9.71037049e-01,\n",
       "       9.37280353e-01, 5.41558024e-03, 1.54420446e-03, 1.19794265e-04])"
      ]
     },
     "execution_count": 24,
     "metadata": {},
     "output_type": "execute_result"
    }
   ],
   "source": [
    "results_log.predict()"
   ]
  },
  {
   "cell_type": "code",
   "execution_count": 25,
   "id": "1cfdb924-aed7-4e3d-81f9-bb0022586a44",
   "metadata": {},
   "outputs": [
    {
     "data": {
      "text/plain": [
       "array([0.00, 1.00, 1.00, 0.23, 0.02, 0.99, 1.00, 1.00, 1.00, 0.01, 1.00,\n",
       "       1.00, 0.76, 0.00, 0.60, 1.00, 0.11, 0.12, 0.51, 1.00, 1.00, 1.00,\n",
       "       0.00, 0.01, 0.97, 1.00, 0.48, 0.99, 1.00, 0.99, 0.00, 0.83, 0.25,\n",
       "       1.00, 1.00, 1.00, 0.31, 1.00, 0.23, 0.00, 0.02, 0.45, 1.00, 0.00,\n",
       "       0.99, 0.00, 0.99, 0.00, 0.00, 0.01, 0.00, 1.00, 0.92, 0.02, 1.00,\n",
       "       0.00, 0.37, 0.98, 0.12, 1.00, 0.00, 0.78, 1.00, 1.00, 0.98, 0.00,\n",
       "       0.00, 0.00, 1.00, 0.00, 0.78, 0.12, 0.00, 0.99, 1.00, 1.00, 0.00,\n",
       "       0.30, 1.00, 1.00, 0.00, 1.00, 1.00, 0.85, 1.00, 1.00, 0.00, 1.00,\n",
       "       1.00, 0.89, 0.83, 0.00, 0.98, 0.97, 0.00, 1.00, 1.00, 0.03, 0.99,\n",
       "       0.96, 1.00, 0.00, 1.00, 0.01, 0.01, 1.00, 1.00, 1.00, 0.00, 0.00,\n",
       "       0.02, 0.33, 0.00, 1.00, 0.09, 0.00, 0.97, 0.00, 0.75, 1.00, 1.00,\n",
       "       0.01, 0.01, 0.00, 1.00, 0.00, 0.99, 0.57, 0.54, 0.87, 0.83, 0.00,\n",
       "       1.00, 0.00, 0.00, 0.00, 1.00, 0.04, 0.00, 0.01, 1.00, 0.99, 0.52,\n",
       "       1.00, 1.00, 0.05, 0.00, 0.00, 0.00, 0.68, 1.00, 1.00, 1.00, 1.00,\n",
       "       1.00, 0.00, 1.00, 1.00, 0.04, 1.00, 0.02, 1.00, 0.99, 0.97, 0.94,\n",
       "       0.01, 0.00, 0.00])"
      ]
     },
     "execution_count": 25,
     "metadata": {},
     "output_type": "execute_result"
    }
   ],
   "source": [
    "#Applying some formatting to make it more legible\n",
    "np.set_printoptions(formatter = {'float': lambda x: '{0:0.2f}'.format(x)})\n",
    "results_log.predict()"
   ]
  },
  {
   "cell_type": "markdown",
   "id": "3b8a358f-d155-42f6-9ea4-515d66acb756",
   "metadata": {},
   "source": [
    "These are the Predicted values by the model.\n",
    "\n",
    "The 0 and 1 are the probabilities. Values below 0.5 means a less than 50% chance of admission. Above 0.5 will be rounded up."
   ]
  },
  {
   "cell_type": "code",
   "execution_count": 26,
   "id": "29b5d799-e924-4626-bde5-1bad91fa5fea",
   "metadata": {},
   "outputs": [
    {
     "data": {
      "text/plain": [
       "array([0, 1, 1, 0, 0, 1, 1, 1, 1, 0, 1, 1, 1, 0, 0, 1, 0, 0, 1, 1, 1, 1,\n",
       "       0, 0, 1, 1, 1, 1, 1, 1, 0, 1, 0, 1, 1, 1, 0, 1, 0, 0, 0, 1, 1, 0,\n",
       "       1, 0, 1, 0, 0, 0, 0, 1, 0, 0, 1, 0, 0, 1, 0, 1, 0, 1, 1, 1, 1, 0,\n",
       "       0, 0, 1, 0, 1, 1, 0, 1, 1, 1, 0, 1, 1, 1, 0, 1, 1, 0, 1, 1, 0, 1,\n",
       "       1, 1, 0, 0, 1, 1, 0, 1, 1, 0, 1, 1, 1, 0, 1, 0, 0, 1, 1, 1, 0, 0,\n",
       "       0, 0, 0, 1, 0, 0, 1, 0, 1, 1, 1, 0, 0, 0, 1, 0, 1, 0, 1, 1, 1, 0,\n",
       "       1, 0, 0, 0, 1, 0, 0, 0, 1, 1, 1, 1, 1, 0, 0, 0, 0, 1, 1, 1, 1, 1,\n",
       "       1, 0, 1, 1, 0, 1, 0, 1, 1, 1, 1, 0, 0, 0], dtype=int64)"
      ]
     },
     "execution_count": 26,
     "metadata": {},
     "output_type": "execute_result"
    }
   ],
   "source": [
    "#comparing the observed values with those of the model\n",
    "np.array(data['Admitted'])"
   ]
  },
  {
   "cell_type": "markdown",
   "id": "e4df4098-6bcc-43aa-bb75-3df56415f96a",
   "metadata": {},
   "source": [
    "These are the actual values.\n",
    "\n",
    "If 80% of the predicted values coincide with the actual values, we say the model has 80% accuracy."
   ]
  },
  {
   "cell_type": "code",
   "execution_count": 27,
   "id": "a52714a9-1808-4ae4-ad84-2308e2d08f15",
   "metadata": {},
   "outputs": [
    {
     "data": {
      "text/plain": [
       "array([[69.00, 5.00],\n",
       "       [4.00, 90.00]])"
      ]
     },
     "execution_count": 27,
     "metadata": {},
     "output_type": "execute_result"
    }
   ],
   "source": [
    "#Summarizing in a table using pred_table\n",
    "results_log.pred_table()"
   ]
  },
  {
   "cell_type": "code",
   "execution_count": 28,
   "id": "409ba6d7-46b9-4cbe-8ace-11687c8cc6bd",
   "metadata": {},
   "outputs": [
    {
     "data": {
      "text/html": [
       "<div>\n",
       "<style scoped>\n",
       "    .dataframe tbody tr th:only-of-type {\n",
       "        vertical-align: middle;\n",
       "    }\n",
       "\n",
       "    .dataframe tbody tr th {\n",
       "        vertical-align: top;\n",
       "    }\n",
       "\n",
       "    .dataframe thead th {\n",
       "        text-align: right;\n",
       "    }\n",
       "</style>\n",
       "<table border=\"1\" class=\"dataframe\">\n",
       "  <thead>\n",
       "    <tr style=\"text-align: right;\">\n",
       "      <th></th>\n",
       "      <th>Predicted 0</th>\n",
       "      <th>Predicted 1</th>\n",
       "    </tr>\n",
       "  </thead>\n",
       "  <tbody>\n",
       "    <tr>\n",
       "      <th>Actual 0</th>\n",
       "      <td>69.0</td>\n",
       "      <td>5.0</td>\n",
       "    </tr>\n",
       "    <tr>\n",
       "      <th>Actual 1</th>\n",
       "      <td>4.0</td>\n",
       "      <td>90.0</td>\n",
       "    </tr>\n",
       "  </tbody>\n",
       "</table>\n",
       "</div>"
      ],
      "text/plain": [
       "          Predicted 0  Predicted 1\n",
       "Actual 0         69.0          5.0\n",
       "Actual 1          4.0         90.0"
      ]
     },
     "execution_count": 28,
     "metadata": {},
     "output_type": "execute_result"
    }
   ],
   "source": [
    "#formatting the table\n",
    "cm_df = pd.DataFrame(results_log.pred_table())\n",
    "cm_df.columns = ['Predicted 0', 'Predicted 1']\n",
    "cm_df = cm_df.rename(index = {0: 'Actual 0', 1: 'Actual 1'})\n",
    "cm_df"
   ]
  },
  {
   "cell_type": "markdown",
   "id": "dd1119d5-65f1-4639-907c-ab1614b41615",
   "metadata": {},
   "source": [
    "This produces a Confusion Matrix. It is called confusion because it shows how confused our model is.\n",
    "\n",
    "Interpretation:\n",
    "\n",
    "For 69 observations, the model predicted 0 when the true value was 0\n",
    "\n",
    "For 90 observations, the model predicted 1 when the true value was 1. \n",
    "\n",
    "This implies that the model did its job well with these 2 observations.\n",
    "\n",
    "However,\n",
    "\n",
    "For 4 observations, the model predicted 0 while the true value was 1\n",
    "\n",
    "For 5 observations, the model predicted 1 when the true value was 0\n",
    "\n",
    "Here, the model got confused.\n",
    "\n",
    "In 69 + 90 of the cases, the model was correct.\n",
    "In 4 + 5 of the cases, the model was incorrect.\n",
    "Overall, the model made an accurate prediction in 159 out of 168 cases.\n",
    "159/168 = 0.946 = 94.6% accuracy\n",
    "\n",
    "Our model seems good in classifying"
   ]
  },
  {
   "cell_type": "code",
   "execution_count": 29,
   "id": "77222ecb-9c8f-4c80-ad66-bdfce117ad33",
   "metadata": {},
   "outputs": [
    {
     "data": {
      "text/plain": [
       "0.9464285714285714"
      ]
     },
     "execution_count": 29,
     "metadata": {},
     "output_type": "execute_result"
    }
   ],
   "source": [
    "#To calculate the accuracy\n",
    "cm = np.array(cm_df)\n",
    "accuracy_train = (cm[0, 0] + cm[1, 1]) / cm.sum()\n",
    "accuracy_train"
   ]
  },
  {
   "cell_type": "markdown",
   "id": "52e071e4-f23e-4252-b00d-d8a4286b985b",
   "metadata": {},
   "source": [
    "### The concept of overfitting"
   ]
  },
  {
   "cell_type": "markdown",
   "id": "7299910f-1a66-4f6c-bd5f-180189596549",
   "metadata": {},
   "source": [
    "#### Overfitting: \n",
    "\n",
    "- Our training has focused on the particular training set so much, it has 'missed the point'. - The random noise is captured inside an overfitted model.\n",
    "\n",
    "#### Underfitting: \n",
    "\n",
    "- The model has not captured the underlying logic of the data. \n",
    "- It doesnt know what to do and therefore provides an answer that is incorrect. \n",
    "- It doesnt have a strong predictive power.\n",
    "- They are clumsy and has low accuracy.  \n",
    "\n",
    "A good model would not be perfect, but would be very close to the actual relationship.\n",
    "\n",
    "Difference between an Underfitted model, a good model and an overfitted model.\n",
    "\n",
    "An Underfitted model:\n",
    "- Doesnt capture any logic\n",
    "- Has low train accuracy\n",
    "\n",
    "A good model:\n",
    "- Captures the underlying logic of the dataset\n",
    "- High train accuracy\n",
    "\n",
    "An Overfitted model:\n",
    "- Captures all the noise, thus 'mised the point'\n",
    "- High train accuracy\n",
    "\n",
    "Solution: Split the initial dataset into two - training and test.90/10 or 80/20 respectively"
   ]
  },
  {
   "cell_type": "markdown",
   "id": "7f8afccc-e0d6-405c-87d6-3684d0d19d5f",
   "metadata": {},
   "source": [
    "### Testing the model\n",
    "\n",
    "Testing is done on a dataset the model has never seen before."
   ]
  },
  {
   "cell_type": "markdown",
   "id": "9e87975f-4b3e-4c6b-b4cd-235e9e5105c2",
   "metadata": {},
   "source": [
    "#### Testing the model and accessing its accuracy"
   ]
  },
  {
   "cell_type": "code",
   "execution_count": 30,
   "id": "b8f53dff-e546-458b-a96b-00fe302a48c6",
   "metadata": {},
   "outputs": [
    {
     "data": {
      "text/html": [
       "<div>\n",
       "<style scoped>\n",
       "    .dataframe tbody tr th:only-of-type {\n",
       "        vertical-align: middle;\n",
       "    }\n",
       "\n",
       "    .dataframe tbody tr th {\n",
       "        vertical-align: top;\n",
       "    }\n",
       "\n",
       "    .dataframe thead th {\n",
       "        text-align: right;\n",
       "    }\n",
       "</style>\n",
       "<table border=\"1\" class=\"dataframe\">\n",
       "  <thead>\n",
       "    <tr style=\"text-align: right;\">\n",
       "      <th></th>\n",
       "      <th>SAT</th>\n",
       "      <th>Admitted</th>\n",
       "      <th>Gender</th>\n",
       "    </tr>\n",
       "  </thead>\n",
       "  <tbody>\n",
       "    <tr>\n",
       "      <th>0</th>\n",
       "      <td>1323</td>\n",
       "      <td>No</td>\n",
       "      <td>Male</td>\n",
       "    </tr>\n",
       "    <tr>\n",
       "      <th>1</th>\n",
       "      <td>1725</td>\n",
       "      <td>Yes</td>\n",
       "      <td>Female</td>\n",
       "    </tr>\n",
       "    <tr>\n",
       "      <th>2</th>\n",
       "      <td>1762</td>\n",
       "      <td>Yes</td>\n",
       "      <td>Female</td>\n",
       "    </tr>\n",
       "    <tr>\n",
       "      <th>3</th>\n",
       "      <td>1777</td>\n",
       "      <td>Yes</td>\n",
       "      <td>Male</td>\n",
       "    </tr>\n",
       "    <tr>\n",
       "      <th>4</th>\n",
       "      <td>1665</td>\n",
       "      <td>No</td>\n",
       "      <td>Male</td>\n",
       "    </tr>\n",
       "    <tr>\n",
       "      <th>5</th>\n",
       "      <td>1556</td>\n",
       "      <td>Yes</td>\n",
       "      <td>Female</td>\n",
       "    </tr>\n",
       "    <tr>\n",
       "      <th>6</th>\n",
       "      <td>1731</td>\n",
       "      <td>Yes</td>\n",
       "      <td>Female</td>\n",
       "    </tr>\n",
       "    <tr>\n",
       "      <th>7</th>\n",
       "      <td>1809</td>\n",
       "      <td>Yes</td>\n",
       "      <td>Female</td>\n",
       "    </tr>\n",
       "    <tr>\n",
       "      <th>8</th>\n",
       "      <td>1930</td>\n",
       "      <td>Yes</td>\n",
       "      <td>Female</td>\n",
       "    </tr>\n",
       "    <tr>\n",
       "      <th>9</th>\n",
       "      <td>1708</td>\n",
       "      <td>Yes</td>\n",
       "      <td>Male</td>\n",
       "    </tr>\n",
       "    <tr>\n",
       "      <th>10</th>\n",
       "      <td>1970</td>\n",
       "      <td>Yes</td>\n",
       "      <td>Female</td>\n",
       "    </tr>\n",
       "    <tr>\n",
       "      <th>11</th>\n",
       "      <td>2039</td>\n",
       "      <td>Yes</td>\n",
       "      <td>Female</td>\n",
       "    </tr>\n",
       "    <tr>\n",
       "      <th>12</th>\n",
       "      <td>1681</td>\n",
       "      <td>Yes</td>\n",
       "      <td>Female</td>\n",
       "    </tr>\n",
       "    <tr>\n",
       "      <th>13</th>\n",
       "      <td>1444</td>\n",
       "      <td>No</td>\n",
       "      <td>Male</td>\n",
       "    </tr>\n",
       "    <tr>\n",
       "      <th>14</th>\n",
       "      <td>1726</td>\n",
       "      <td>No</td>\n",
       "      <td>Male</td>\n",
       "    </tr>\n",
       "    <tr>\n",
       "      <th>15</th>\n",
       "      <td>1876</td>\n",
       "      <td>Yes</td>\n",
       "      <td>Female</td>\n",
       "    </tr>\n",
       "    <tr>\n",
       "      <th>16</th>\n",
       "      <td>1485</td>\n",
       "      <td>No</td>\n",
       "      <td>Male</td>\n",
       "    </tr>\n",
       "    <tr>\n",
       "      <th>17</th>\n",
       "      <td>1500</td>\n",
       "      <td>No</td>\n",
       "      <td>Female</td>\n",
       "    </tr>\n",
       "    <tr>\n",
       "      <th>18</th>\n",
       "      <td>1900</td>\n",
       "      <td>Yes</td>\n",
       "      <td>Male</td>\n",
       "    </tr>\n",
       "  </tbody>\n",
       "</table>\n",
       "</div>"
      ],
      "text/plain": [
       "     SAT Admitted  Gender\n",
       "0   1323       No    Male\n",
       "1   1725      Yes  Female\n",
       "2   1762      Yes  Female\n",
       "3   1777      Yes    Male\n",
       "4   1665       No    Male\n",
       "5   1556      Yes  Female\n",
       "6   1731      Yes  Female\n",
       "7   1809      Yes  Female\n",
       "8   1930      Yes  Female\n",
       "9   1708      Yes    Male\n",
       "10  1970      Yes  Female\n",
       "11  2039      Yes  Female\n",
       "12  1681      Yes  Female\n",
       "13  1444       No    Male\n",
       "14  1726       No    Male\n",
       "15  1876      Yes  Female\n",
       "16  1485       No    Male\n",
       "17  1500       No  Female\n",
       "18  1900      Yes    Male"
      ]
     },
     "execution_count": 30,
     "metadata": {},
     "output_type": "execute_result"
    }
   ],
   "source": [
    "import pandas as pd\n",
    "#Load the dataset\n",
    "test = pd.read_csv('C:\\\\Users\\\\AFC 2\\\\Documents\\\\Data Science Files\\\\Jupyter notebooks for Data Science\\\\2.03. Test dataset.csv')\n",
    "test"
   ]
  },
  {
   "cell_type": "markdown",
   "id": "3b64f287-de57-4130-abe8-8eaba483cc58",
   "metadata": {},
   "source": [
    "The test_data and the raw_data were  a part of the same file but were secretly split. the spilt was 90/10."
   ]
  },
  {
   "cell_type": "code",
   "execution_count": 31,
   "id": "0fd5a48f-52cb-4070-96b0-d0e47a752a9b",
   "metadata": {},
   "outputs": [
    {
     "data": {
      "text/html": [
       "<div>\n",
       "<style scoped>\n",
       "    .dataframe tbody tr th:only-of-type {\n",
       "        vertical-align: middle;\n",
       "    }\n",
       "\n",
       "    .dataframe tbody tr th {\n",
       "        vertical-align: top;\n",
       "    }\n",
       "\n",
       "    .dataframe thead th {\n",
       "        text-align: right;\n",
       "    }\n",
       "</style>\n",
       "<table border=\"1\" class=\"dataframe\">\n",
       "  <thead>\n",
       "    <tr style=\"text-align: right;\">\n",
       "      <th></th>\n",
       "      <th>SAT</th>\n",
       "      <th>Admitted</th>\n",
       "      <th>Gender</th>\n",
       "    </tr>\n",
       "  </thead>\n",
       "  <tbody>\n",
       "    <tr>\n",
       "      <th>0</th>\n",
       "      <td>1323</td>\n",
       "      <td>NaN</td>\n",
       "      <td>0</td>\n",
       "    </tr>\n",
       "    <tr>\n",
       "      <th>1</th>\n",
       "      <td>1725</td>\n",
       "      <td>1.0</td>\n",
       "      <td>1</td>\n",
       "    </tr>\n",
       "    <tr>\n",
       "      <th>2</th>\n",
       "      <td>1762</td>\n",
       "      <td>1.0</td>\n",
       "      <td>1</td>\n",
       "    </tr>\n",
       "    <tr>\n",
       "      <th>3</th>\n",
       "      <td>1777</td>\n",
       "      <td>1.0</td>\n",
       "      <td>0</td>\n",
       "    </tr>\n",
       "    <tr>\n",
       "      <th>4</th>\n",
       "      <td>1665</td>\n",
       "      <td>NaN</td>\n",
       "      <td>0</td>\n",
       "    </tr>\n",
       "    <tr>\n",
       "      <th>5</th>\n",
       "      <td>1556</td>\n",
       "      <td>1.0</td>\n",
       "      <td>1</td>\n",
       "    </tr>\n",
       "    <tr>\n",
       "      <th>6</th>\n",
       "      <td>1731</td>\n",
       "      <td>1.0</td>\n",
       "      <td>1</td>\n",
       "    </tr>\n",
       "    <tr>\n",
       "      <th>7</th>\n",
       "      <td>1809</td>\n",
       "      <td>1.0</td>\n",
       "      <td>1</td>\n",
       "    </tr>\n",
       "    <tr>\n",
       "      <th>8</th>\n",
       "      <td>1930</td>\n",
       "      <td>1.0</td>\n",
       "      <td>1</td>\n",
       "    </tr>\n",
       "    <tr>\n",
       "      <th>9</th>\n",
       "      <td>1708</td>\n",
       "      <td>1.0</td>\n",
       "      <td>0</td>\n",
       "    </tr>\n",
       "    <tr>\n",
       "      <th>10</th>\n",
       "      <td>1970</td>\n",
       "      <td>1.0</td>\n",
       "      <td>1</td>\n",
       "    </tr>\n",
       "    <tr>\n",
       "      <th>11</th>\n",
       "      <td>2039</td>\n",
       "      <td>1.0</td>\n",
       "      <td>1</td>\n",
       "    </tr>\n",
       "    <tr>\n",
       "      <th>12</th>\n",
       "      <td>1681</td>\n",
       "      <td>1.0</td>\n",
       "      <td>1</td>\n",
       "    </tr>\n",
       "    <tr>\n",
       "      <th>13</th>\n",
       "      <td>1444</td>\n",
       "      <td>NaN</td>\n",
       "      <td>0</td>\n",
       "    </tr>\n",
       "    <tr>\n",
       "      <th>14</th>\n",
       "      <td>1726</td>\n",
       "      <td>NaN</td>\n",
       "      <td>0</td>\n",
       "    </tr>\n",
       "    <tr>\n",
       "      <th>15</th>\n",
       "      <td>1876</td>\n",
       "      <td>1.0</td>\n",
       "      <td>1</td>\n",
       "    </tr>\n",
       "    <tr>\n",
       "      <th>16</th>\n",
       "      <td>1485</td>\n",
       "      <td>NaN</td>\n",
       "      <td>0</td>\n",
       "    </tr>\n",
       "    <tr>\n",
       "      <th>17</th>\n",
       "      <td>1500</td>\n",
       "      <td>NaN</td>\n",
       "      <td>1</td>\n",
       "    </tr>\n",
       "    <tr>\n",
       "      <th>18</th>\n",
       "      <td>1900</td>\n",
       "      <td>1.0</td>\n",
       "      <td>0</td>\n",
       "    </tr>\n",
       "  </tbody>\n",
       "</table>\n",
       "</div>"
      ],
      "text/plain": [
       "     SAT  Admitted  Gender\n",
       "0   1323       NaN       0\n",
       "1   1725       1.0       1\n",
       "2   1762       1.0       1\n",
       "3   1777       1.0       0\n",
       "4   1665       NaN       0\n",
       "5   1556       1.0       1\n",
       "6   1731       1.0       1\n",
       "7   1809       1.0       1\n",
       "8   1930       1.0       1\n",
       "9   1708       1.0       0\n",
       "10  1970       1.0       1\n",
       "11  2039       1.0       1\n",
       "12  1681       1.0       1\n",
       "13  1444       NaN       0\n",
       "14  1726       NaN       0\n",
       "15  1876       1.0       1\n",
       "16  1485       NaN       0\n",
       "17  1500       NaN       1\n",
       "18  1900       1.0       0"
      ]
     },
     "execution_count": 31,
     "metadata": {},
     "output_type": "execute_result"
    }
   ],
   "source": [
    "#Map the categorical variables\n",
    "\n",
    "test['Admitted'] = test['Admitted'].map({'Yes':1, 'N0':0})\n",
    "test['Gender'] = test['Gender'].map({'Female':1, 'Male':0})\n",
    "test"
   ]
  },
  {
   "cell_type": "code",
   "execution_count": 32,
   "id": "61db5d53-7458-447c-b2a0-ca86f93ff7c2",
   "metadata": {},
   "outputs": [
    {
     "data": {
      "text/html": [
       "<div>\n",
       "<style scoped>\n",
       "    .dataframe tbody tr th:only-of-type {\n",
       "        vertical-align: middle;\n",
       "    }\n",
       "\n",
       "    .dataframe tbody tr th {\n",
       "        vertical-align: top;\n",
       "    }\n",
       "\n",
       "    .dataframe thead th {\n",
       "        text-align: right;\n",
       "    }\n",
       "</style>\n",
       "<table border=\"1\" class=\"dataframe\">\n",
       "  <thead>\n",
       "    <tr style=\"text-align: right;\">\n",
       "      <th></th>\n",
       "      <th>const</th>\n",
       "      <th>SAT</th>\n",
       "      <th>Gender</th>\n",
       "    </tr>\n",
       "  </thead>\n",
       "  <tbody>\n",
       "    <tr>\n",
       "      <th>0</th>\n",
       "      <td>1.0</td>\n",
       "      <td>1363</td>\n",
       "      <td>0</td>\n",
       "    </tr>\n",
       "    <tr>\n",
       "      <th>1</th>\n",
       "      <td>1.0</td>\n",
       "      <td>1792</td>\n",
       "      <td>1</td>\n",
       "    </tr>\n",
       "    <tr>\n",
       "      <th>2</th>\n",
       "      <td>1.0</td>\n",
       "      <td>1954</td>\n",
       "      <td>1</td>\n",
       "    </tr>\n",
       "    <tr>\n",
       "      <th>3</th>\n",
       "      <td>1.0</td>\n",
       "      <td>1653</td>\n",
       "      <td>0</td>\n",
       "    </tr>\n",
       "    <tr>\n",
       "      <th>4</th>\n",
       "      <td>1.0</td>\n",
       "      <td>1593</td>\n",
       "      <td>0</td>\n",
       "    </tr>\n",
       "    <tr>\n",
       "      <th>...</th>\n",
       "      <td>...</td>\n",
       "      <td>...</td>\n",
       "      <td>...</td>\n",
       "    </tr>\n",
       "    <tr>\n",
       "      <th>163</th>\n",
       "      <td>1.0</td>\n",
       "      <td>1722</td>\n",
       "      <td>1</td>\n",
       "    </tr>\n",
       "    <tr>\n",
       "      <th>164</th>\n",
       "      <td>1.0</td>\n",
       "      <td>1750</td>\n",
       "      <td>0</td>\n",
       "    </tr>\n",
       "    <tr>\n",
       "      <th>165</th>\n",
       "      <td>1.0</td>\n",
       "      <td>1555</td>\n",
       "      <td>0</td>\n",
       "    </tr>\n",
       "    <tr>\n",
       "      <th>166</th>\n",
       "      <td>1.0</td>\n",
       "      <td>1524</td>\n",
       "      <td>0</td>\n",
       "    </tr>\n",
       "    <tr>\n",
       "      <th>167</th>\n",
       "      <td>1.0</td>\n",
       "      <td>1461</td>\n",
       "      <td>0</td>\n",
       "    </tr>\n",
       "  </tbody>\n",
       "</table>\n",
       "<p>168 rows × 3 columns</p>\n",
       "</div>"
      ],
      "text/plain": [
       "     const   SAT  Gender\n",
       "0      1.0  1363       0\n",
       "1      1.0  1792       1\n",
       "2      1.0  1954       1\n",
       "3      1.0  1653       0\n",
       "4      1.0  1593       0\n",
       "..     ...   ...     ...\n",
       "163    1.0  1722       1\n",
       "164    1.0  1750       0\n",
       "165    1.0  1555       0\n",
       "166    1.0  1524       0\n",
       "167    1.0  1461       0\n",
       "\n",
       "[168 rows x 3 columns]"
      ]
     },
     "execution_count": 32,
     "metadata": {},
     "output_type": "execute_result"
    }
   ],
   "source": [
    "#To predict the values\n",
    "x"
   ]
  },
  {
   "cell_type": "markdown",
   "id": "a2cd937b-7db4-460f-a80c-b16caca35a0e",
   "metadata": {},
   "source": [
    "Note that order is very important because the coefficients of the regression will expect it. If not, the prediction will be wrong."
   ]
  },
  {
   "cell_type": "code",
   "execution_count": 33,
   "id": "162a0a56-96ec-4c39-af9c-d97165c13a41",
   "metadata": {},
   "outputs": [
    {
     "name": "stderr",
     "output_type": "stream",
     "text": [
      "C:\\Users\\AFC 2\\anaconda3\\lib\\site-packages\\statsmodels\\tsa\\tsatools.py:142: FutureWarning: In a future version of pandas all arguments of concat except for the argument 'objs' will be keyword-only\n",
      "  x = pd.concat(x[::order], 1)\n"
     ]
    },
    {
     "data": {
      "text/html": [
       "<div>\n",
       "<style scoped>\n",
       "    .dataframe tbody tr th:only-of-type {\n",
       "        vertical-align: middle;\n",
       "    }\n",
       "\n",
       "    .dataframe tbody tr th {\n",
       "        vertical-align: top;\n",
       "    }\n",
       "\n",
       "    .dataframe thead th {\n",
       "        text-align: right;\n",
       "    }\n",
       "</style>\n",
       "<table border=\"1\" class=\"dataframe\">\n",
       "  <thead>\n",
       "    <tr style=\"text-align: right;\">\n",
       "      <th></th>\n",
       "      <th>const</th>\n",
       "      <th>SAT</th>\n",
       "      <th>Gender</th>\n",
       "    </tr>\n",
       "  </thead>\n",
       "  <tbody>\n",
       "    <tr>\n",
       "      <th>0</th>\n",
       "      <td>1.0</td>\n",
       "      <td>1323</td>\n",
       "      <td>0</td>\n",
       "    </tr>\n",
       "    <tr>\n",
       "      <th>1</th>\n",
       "      <td>1.0</td>\n",
       "      <td>1725</td>\n",
       "      <td>1</td>\n",
       "    </tr>\n",
       "    <tr>\n",
       "      <th>2</th>\n",
       "      <td>1.0</td>\n",
       "      <td>1762</td>\n",
       "      <td>1</td>\n",
       "    </tr>\n",
       "    <tr>\n",
       "      <th>3</th>\n",
       "      <td>1.0</td>\n",
       "      <td>1777</td>\n",
       "      <td>0</td>\n",
       "    </tr>\n",
       "    <tr>\n",
       "      <th>4</th>\n",
       "      <td>1.0</td>\n",
       "      <td>1665</td>\n",
       "      <td>0</td>\n",
       "    </tr>\n",
       "    <tr>\n",
       "      <th>5</th>\n",
       "      <td>1.0</td>\n",
       "      <td>1556</td>\n",
       "      <td>1</td>\n",
       "    </tr>\n",
       "    <tr>\n",
       "      <th>6</th>\n",
       "      <td>1.0</td>\n",
       "      <td>1731</td>\n",
       "      <td>1</td>\n",
       "    </tr>\n",
       "    <tr>\n",
       "      <th>7</th>\n",
       "      <td>1.0</td>\n",
       "      <td>1809</td>\n",
       "      <td>1</td>\n",
       "    </tr>\n",
       "    <tr>\n",
       "      <th>8</th>\n",
       "      <td>1.0</td>\n",
       "      <td>1930</td>\n",
       "      <td>1</td>\n",
       "    </tr>\n",
       "    <tr>\n",
       "      <th>9</th>\n",
       "      <td>1.0</td>\n",
       "      <td>1708</td>\n",
       "      <td>0</td>\n",
       "    </tr>\n",
       "    <tr>\n",
       "      <th>10</th>\n",
       "      <td>1.0</td>\n",
       "      <td>1970</td>\n",
       "      <td>1</td>\n",
       "    </tr>\n",
       "    <tr>\n",
       "      <th>11</th>\n",
       "      <td>1.0</td>\n",
       "      <td>2039</td>\n",
       "      <td>1</td>\n",
       "    </tr>\n",
       "    <tr>\n",
       "      <th>12</th>\n",
       "      <td>1.0</td>\n",
       "      <td>1681</td>\n",
       "      <td>1</td>\n",
       "    </tr>\n",
       "    <tr>\n",
       "      <th>13</th>\n",
       "      <td>1.0</td>\n",
       "      <td>1444</td>\n",
       "      <td>0</td>\n",
       "    </tr>\n",
       "    <tr>\n",
       "      <th>14</th>\n",
       "      <td>1.0</td>\n",
       "      <td>1726</td>\n",
       "      <td>0</td>\n",
       "    </tr>\n",
       "    <tr>\n",
       "      <th>15</th>\n",
       "      <td>1.0</td>\n",
       "      <td>1876</td>\n",
       "      <td>1</td>\n",
       "    </tr>\n",
       "    <tr>\n",
       "      <th>16</th>\n",
       "      <td>1.0</td>\n",
       "      <td>1485</td>\n",
       "      <td>0</td>\n",
       "    </tr>\n",
       "    <tr>\n",
       "      <th>17</th>\n",
       "      <td>1.0</td>\n",
       "      <td>1500</td>\n",
       "      <td>1</td>\n",
       "    </tr>\n",
       "    <tr>\n",
       "      <th>18</th>\n",
       "      <td>1.0</td>\n",
       "      <td>1900</td>\n",
       "      <td>0</td>\n",
       "    </tr>\n",
       "  </tbody>\n",
       "</table>\n",
       "</div>"
      ],
      "text/plain": [
       "    const   SAT  Gender\n",
       "0     1.0  1323       0\n",
       "1     1.0  1725       1\n",
       "2     1.0  1762       1\n",
       "3     1.0  1777       0\n",
       "4     1.0  1665       0\n",
       "5     1.0  1556       1\n",
       "6     1.0  1731       1\n",
       "7     1.0  1809       1\n",
       "8     1.0  1930       1\n",
       "9     1.0  1708       0\n",
       "10    1.0  1970       1\n",
       "11    1.0  2039       1\n",
       "12    1.0  1681       1\n",
       "13    1.0  1444       0\n",
       "14    1.0  1726       0\n",
       "15    1.0  1876       1\n",
       "16    1.0  1485       0\n",
       "17    1.0  1500       1\n",
       "18    1.0  1900       0"
      ]
     },
     "execution_count": 33,
     "metadata": {},
     "output_type": "execute_result"
    }
   ],
   "source": [
    "#Create a new variable\n",
    "test_actual = test['Admitted']\n",
    "test_data = test.drop(['Admitted'], axis = 1)\n",
    "test_data = sn.add_constant(test_data)\n",
    "test_data"
   ]
  },
  {
   "cell_type": "code",
   "execution_count": 34,
   "id": "989c8904-5860-4a56-b789-737030376d94",
   "metadata": {},
   "outputs": [],
   "source": [
    "#create the confusion matrix. Unfortunately, statsmodel does not provide this functionality.\n",
    "#Manually create one\n",
    "\n",
    "def confusion_matrix(data, actual_values, model):\n",
    "    \n",
    "    pred_values = model.predict(data)\n",
    "    bins = np.array([0, 0.5, 1])\n",
    "    cm = np.histogram2d(actual_values, pred_values, bins = bins)[0]\n",
    "    accuracy = (cm[0, 0] + cm[1, 1])/cm.sum()\n",
    "    return cm, accuracy"
   ]
  },
  {
   "cell_type": "code",
   "execution_count": 35,
   "id": "1e62e2ec-e86f-4caf-ac03-bfd93d52f889",
   "metadata": {},
   "outputs": [
    {
     "data": {
      "text/plain": [
       "(array([[0.00, 0.00],\n",
       "        [1.00, 12.00]]),\n",
       " 0.9230769230769231)"
      ]
     },
     "execution_count": 35,
     "metadata": {},
     "output_type": "execute_result"
    }
   ],
   "source": [
    "cm = confusion_matrix(test_data, test_actual, results_log)\n",
    "cm"
   ]
  },
  {
   "cell_type": "markdown",
   "id": "801ebd89-72d7-4daa-a795-f14c2d82fe3d",
   "metadata": {},
   "source": [
    "Almost, always, the training accuracy is higher than the testing accuracy. This is because of the overfitting"
   ]
  },
  {
   "cell_type": "code",
   "execution_count": 36,
   "id": "7a382189-13b9-4b3b-a3a6-8bb5386b0faf",
   "metadata": {},
   "outputs": [
    {
     "data": {
      "text/html": [
       "<div>\n",
       "<style scoped>\n",
       "    .dataframe tbody tr th:only-of-type {\n",
       "        vertical-align: middle;\n",
       "    }\n",
       "\n",
       "    .dataframe tbody tr th {\n",
       "        vertical-align: top;\n",
       "    }\n",
       "\n",
       "    .dataframe thead th {\n",
       "        text-align: right;\n",
       "    }\n",
       "</style>\n",
       "<table border=\"1\" class=\"dataframe\">\n",
       "  <thead>\n",
       "    <tr style=\"text-align: right;\">\n",
       "      <th></th>\n",
       "      <th>Predicted 0</th>\n",
       "      <th>Prediction 1</th>\n",
       "    </tr>\n",
       "  </thead>\n",
       "  <tbody>\n",
       "    <tr>\n",
       "      <th>Actual 0</th>\n",
       "      <td>0.0</td>\n",
       "      <td>0.0</td>\n",
       "    </tr>\n",
       "    <tr>\n",
       "      <th>Actual 1</th>\n",
       "      <td>1.0</td>\n",
       "      <td>12.0</td>\n",
       "    </tr>\n",
       "  </tbody>\n",
       "</table>\n",
       "</div>"
      ],
      "text/plain": [
       "          Predicted 0  Prediction 1\n",
       "Actual 0          0.0           0.0\n",
       "Actual 1          1.0          12.0"
      ]
     },
     "execution_count": 36,
     "metadata": {},
     "output_type": "execute_result"
    }
   ],
   "source": [
    "#Format the confusion matrix\n",
    "cm_df = pd.DataFrame(cm[0])\n",
    "cm_df.columns = ['Predicted 0', 'Prediction 1']\n",
    "cm_df = cm_df.rename(index = {0: 'Actual 0', 1:'Actual 1'})\n",
    "cm_df "
   ]
  },
  {
   "cell_type": "markdown",
   "id": "517c1f4d-5f18-4f6f-a0ea-97e3d495f694",
   "metadata": {},
   "source": [
    "The opposite of accuracy is the missclassification rate\n",
    "Missclassification rate = missclassifed / all elements"
   ]
  },
  {
   "cell_type": "code",
   "execution_count": 37,
   "id": "95351aa7-7dee-464a-93a5-4467ddd3578a",
   "metadata": {},
   "outputs": [
    {
     "name": "stdout",
     "output_type": "stream",
     "text": [
      "Missclassification rate: 0.10526315789473684\n"
     ]
    }
   ],
   "source": [
    "print ('Missclassification rate: ' +str((1+1) / 19))"
   ]
  },
  {
   "cell_type": "markdown",
   "id": "91b2b6ee-6c8a-4eb9-9cd2-3d40d3e18910",
   "metadata": {},
   "source": [
    "### The Best Guide to Regularization in Machine Learning"
   ]
  },
  {
   "cell_type": "markdown",
   "id": "aad74be4-2553-4d9c-8d2b-8bcba1f709c7",
   "metadata": {},
   "source": [
    "##### What is Data Fitting?\n",
    "\n",
    "This is the process of plotting a series of data points and drawing the best fit line to understand the relationship between the variables.\n",
    "\n",
    "It is a linear relationship\n",
    "\n",
    "The line used to represent the relationship is a straight line that passes through the data points and the variables have linear relationship"
   ]
  },
  {
   "cell_type": "markdown",
   "id": "0579969d-7945-4d34-badf-91c6116e2f9b",
   "metadata": {},
   "source": [
    "##### Understanding Linear Regression\n",
    "\n",
    "Linear Regression tries to find the line that best fits the datapoint and gives a linear relationship between the two variables. E.g. Efficiency of a car vs the distance travelled, the temperature outside vs the sale of ice cream. "
   ]
  },
  {
   "cell_type": "markdown",
   "id": "c9c10071-2373-4422-816f-513c850bfe2d",
   "metadata": {},
   "source": [
    "##### Bias and Variance\n",
    "\n",
    "##### Bias\n",
    ". This occurs when an algorithm has limited flexibility to learn from data.\n",
    "\n",
    ". Such models pay very little attention to the training data and oversimplify the model therefore the validation error or prediction error and training error follow similar trends.\n",
    "\n",
    ". Such models always lead to a high error on training and test data.\n",
    "\n",
    ". In a dart game, if all the darts fall on a particular pointer, this can be considered as a 'biased throw', and the player aims for the particular score.\n",
    "\n",
    "##### Variance\n",
    ". This defines the algothm's sensitivity to specific sets of data.\n",
    "\n",
    ". A model with high variance pays a lot of attention to training data and does not generalize. Therefore, the validation error or prediction error are far part from each other.\n",
    "\n",
    ". Such models usually perform very well on trainig data but have high error rates on test data.\n",
    "\n",
    ". In a dart game, if all the darts fall on different pointers and no two darts fall on the same pointer, then this can be considered as a 'varied throw', and the player aims for various scores "
   ]
  },
  {
   "cell_type": "markdown",
   "id": "4c77fd3b-d13e-40d4-a258-1767d6fe5511",
   "metadata": {},
   "source": [
    "##### What is Overfitting?\n",
    "\n",
    "This is a scenario where the machine learning model tries to learn from the details along with the noise in the data amd tries to fit each data point on the curve.\n",
    "\n",
    "As a model has very less flexibility, it fails to predict new data points and thus the model rejects every new data point during the prediction.\n",
    "\n",
    "#### Reasons for Overfitting\n",
    "1. Data used for training is not cleaned and contains noise in it.\n",
    "\n",
    "2. The model has a high variance.\n",
    "\n",
    "3. Size of training data used is not enough.\n",
    "\n",
    "4. The model is too complex.,"
   ]
  },
  {
   "cell_type": "markdown",
   "id": "884ca907-ece0-4a62-95e8-ddd7924cc46b",
   "metadata": {},
   "source": [
    "#### What is Underfitting?\n",
    "\n",
    "This is a scenario where the machine learning model can neither learn the relationship between variables in the data nor predict or classify a new data point.\n",
    "\n",
    "As the model doesn't fully learn the patterns, it accepts every new data point during the prediction.\n",
    "\n",
    "#### Reasons for Underfitting\n",
    "1. Data used for training is not cleaned and contains noise in it.\n",
    "\n",
    "2. The model has a high bias.\n",
    "\n",
    "3. Size of training data used is not enough.\n",
    "\n",
    "4. The model is too simple."
   ]
  },
  {
   "cell_type": "markdown",
   "id": "79b7f9d4-1f26-4d08-a72d-b1520602290d",
   "metadata": {},
   "source": [
    "#### What is a Good Fit?\n",
    "\n",
    "A line or a curve that best fits the data is neither overfitting nor underfitting models but is just right."
   ]
  },
  {
   "cell_type": "markdown",
   "id": "3d058be3-cefa-4844-9f62-0f71c96b686f",
   "metadata": {},
   "source": [
    "#### What is Regularization?\n",
    "\n",
    "Techniques used to calibarte the linear regression models in order to minimize the adjusted loss function and prevent over or underfitting.\n",
    "\n",
    "#### Types of Regularization\n",
    "\n",
    "1. Ridge Regularization\n",
    "2. Lasso Regularization\n",
    " \n",
    "#### Ridge Regression\n",
    "\n",
    "It modifies the overfitted and underfitted models by adding the penalty equivalent to the sum of the squares of the magnitude of coefficients.\n",
    "\n",
    "The Ridge regression line fits the model more accurately than the linear regression line.\n",
    "\n",
    "#### Lasso Regression\n",
    "\n",
    "It modifies the overfitted and underfitted models by adding the penalty equivalent to the sum of the absolute values of the coefficients.\n",
    "\n",
    "The Lasso regression line fits the model more accurately than the linear regression line.\n",
    "\n",
    "#### Ridge vs Lasso Regression\n",
    "\n",
    "#### Ridge Regularization\n",
    "\n",
    ". Useful when we have many variables with relatively smaller data samples\n",
    "\n",
    ". The model does not encourage converge towards zero but is likely to make them closer to zero and prevent overfitting.\n",
    "\n",
    "#### Lasso Regularization\n",
    "\n",
    "' Preferred when we are fitting a linear model with fewer variables.\n",
    "\n",
    ". It encourages the coefficients of the variables to go towards zero because of the shape of the constraint which is an absolute value"
   ]
  },
  {
   "cell_type": "code",
   "execution_count": 38,
   "id": "e6bed090-f1ad-4cd6-8aa1-5c8079a63418",
   "metadata": {},
   "outputs": [],
   "source": [
    "import numpy as np\n",
    "import pandas as pd\n",
    "import matplotlib.pyplot as plt\n",
    "from sklearn import datasets\n",
    "from sklearn.model_selection import train_test_split\n",
    "from sklearn.linear_model import LinearRegression"
   ]
  },
  {
   "cell_type": "code",
   "execution_count": 39,
   "id": "6f7f17ad-da41-4287-8241-f930628054a9",
   "metadata": {},
   "outputs": [],
   "source": [
    "# Loading pre-defined Boston Dataset\n",
    "boston_dataset = datasets.load_boston()"
   ]
  },
  {
   "cell_type": "code",
   "execution_count": 40,
   "id": "8106b36f-a9b5-4753-a81b-8d22bad01972",
   "metadata": {},
   "outputs": [
    {
     "name": "stdout",
     "output_type": "stream",
     "text": [
      "      CRIM    ZN  INDUS  CHAS    NOX     RM   AGE     DIS  RAD    TAX  \\\n",
      "0  0.00632  18.0   2.31   0.0  0.538  6.575  65.2  4.0900  1.0  296.0   \n",
      "1  0.02731   0.0   7.07   0.0  0.469  6.421  78.9  4.9671  2.0  242.0   \n",
      "2  0.02729   0.0   7.07   0.0  0.469  7.185  61.1  4.9671  2.0  242.0   \n",
      "3  0.03237   0.0   2.18   0.0  0.458  6.998  45.8  6.0622  3.0  222.0   \n",
      "4  0.06905   0.0   2.18   0.0  0.458  7.147  54.2  6.0622  3.0  222.0   \n",
      "\n",
      "   PTRATIO       B  LSTAT  House Price  \n",
      "0     15.3  396.90   4.98         24.0  \n",
      "1     17.8  396.90   9.14         21.6  \n",
      "2     17.8  392.83   4.03         34.7  \n",
      "3     18.7  394.63   2.94         33.4  \n",
      "4     18.7  396.90   5.33         36.2  \n"
     ]
    }
   ],
   "source": [
    "# Load the dataset\n",
    "boston_pd = pd.DataFrame(boston_dataset.data)\n",
    "boston_pd.columns = boston_dataset.feature_names\n",
    "boston_pd_target = np.asarray(boston_dataset.target)\n",
    "boston_pd['House Price'] = pd.Series(boston_pd_target)\n",
    "\n",
    "# input\n",
    "X = boston_pd.iloc[:, :-1]\n",
    "\n",
    "# output\n",
    "Y = boston_pd .iloc[:, -1]\n",
    "\n",
    "print(boston_pd.head())"
   ]
  },
  {
   "cell_type": "code",
   "execution_count": 42,
   "id": "fc324369-503d-45fd-beeb-7d9bd1377289",
   "metadata": {},
   "outputs": [
    {
     "name": "stdout",
     "output_type": "stream",
     "text": [
      "Train data shape of X = (379, 13) and Y = (379,) : \n",
      "Test data shape of X = (127, 13) and Y = (127,) : \n"
     ]
    }
   ],
   "source": [
    "x_train, x_test, y_train, y_test = train_test_split(\n",
    "boston_pd.iloc[:, :-1], boston_pd.iloc[:, -1],\n",
    "test_size = 0.25)\n",
    "\n",
    "print('Train data shape of X = % s and Y = % s : '%(\n",
    "x_train.shape, y_train.shape))\n",
    "\n",
    "print('Test data shape of X = % s and Y = % s : '%(\n",
    "x_test.shape, y_test.shape))"
   ]
  },
  {
   "cell_type": "code",
   "execution_count": 50,
   "id": "91549728-c2ae-4785-8fdc-3a05d7c930c9",
   "metadata": {},
   "outputs": [
    {
     "name": "stdout",
     "output_type": "stream",
     "text": [
      "Mean squared Error on test set :  20.121442314246842\n",
      "    Columns  Coefficient Estimates\n",
      "0      CRIM              -0.104355\n",
      "1        ZN               0.061484\n",
      "2     INDUS              -0.056371\n",
      "3      CHAS               2.257815\n",
      "4       NOX             -18.233867\n",
      "5        RM               3.379906\n",
      "6       AGE               0.015759\n",
      "7       DIS              -1.687764\n",
      "8       RAD               0.345458\n",
      "9       TAX              -0.012686\n",
      "10  PTRATIO              -0.846324\n",
      "11        B               0.007890\n",
      "12    LSTAT              -0.596846\n"
     ]
    }
   ],
   "source": [
    "# Apply multiple Linear Regression Model\n",
    "lreg = LinearRegression()\n",
    "lreg.fit(x_train, y_train)\n",
    "\n",
    "# Generate Prediction- on test set\n",
    "lreg_y_pred = lreg.predict(x_test)\n",
    "\n",
    "# calculating Mean Squared Error (mse)\n",
    "mean_squared_error = np.mean((lreg_y_pred - y_test)**2)\n",
    "print('Mean squared Error on test set : ', mean_squared_error)\n",
    "\n",
    "# Putting together the coefficient and their corresponding variable names\n",
    "lreg_coefficient = pd.DataFrame()\n",
    "lreg_coefficient['Columns'] = x_train.columns\n",
    "lreg_coefficient['Coefficient Estimates'] = pd.Series(lreg.coef_)\n",
    "print(lreg_coefficient)"
   ]
  },
  {
   "cell_type": "code",
   "execution_count": 52,
   "id": "37d6aabd-dd91-4562-b7d0-80554fce7507",
   "metadata": {},
   "outputs": [
    {
     "data": {
      "image/png": "[encoded data removed]",
      "text/plain": [
       "<Figure size 1440x720 with 1 Axes>"
      ]
     },
     "metadata": {},
     "output_type": "display_data"
    }
   ],
   "source": [
    "# plotting the coefficient score\n",
    "fig, ax = plt.subplots(figsize = (20, 10))\n",
    "\n",
    "color = ['tab:gray', 'tab:blue', 'tab:orange', 'tab:green', 'tab:red', 'tab:purple', 'tab:brown', 'tab:pink', 'tab:gray', 'tab:olive', 'tab:cyan', 'tab:orange', 'tab:green','tab:blue', 'tab:olive']\n",
    "\n",
    "ax.bar(lreg_coefficient['Columns'],\n",
    "lreg_coefficient['Coefficient Estimates'],\n",
    "color = color)\n",
    "\n",
    "ax.spines['bottom'].set_position('zero')\n",
    "\n",
    "plt.style.use('ggplot')\n",
    "plt.show()"
   ]
  },
  {
   "cell_type": "markdown",
   "id": "766f9b50-65b3-43f0-88c8-bdee3fd4ff54",
   "metadata": {},
   "source": [
    "Now our motive is to reduce the coefficient score"
   ]
  },
  {
   "cell_type": "markdown",
   "id": "bafaeb04-d2ce-4082-8af9-e26d00af04be",
   "metadata": {},
   "source": [
    "#### Ridge Regression"
   ]
  },
  {
   "cell_type": "code",
   "execution_count": 49,
   "id": "556d6230-e14d-45f5-913d-d4bc7ccce9f6",
   "metadata": {},
   "outputs": [
    {
     "name": "stdout",
     "output_type": "stream",
     "text": [
      "Mean squared error on test set :  20.294171366295018\n",
      "    Columns  Coefficient Estimates\n",
      "0      CRIM              -0.099351\n",
      "1        ZN               0.062625\n",
      "2     INDUS              -0.088793\n",
      "3      CHAS               2.093881\n",
      "4       NOX              -9.707153\n",
      "5        RM               3.432293\n",
      "6       AGE               0.009165\n",
      "7       DIS              -1.552355\n",
      "8       RAD               0.326697\n",
      "9       TAX              -0.013437\n",
      "10  PTRATIO              -0.765542\n",
      "11        B               0.008328\n",
      "12    LSTAT              -0.607616\n"
     ]
    }
   ],
   "source": [
    "# import ridge regression from sklearn library\n",
    "from sklearn.linear_model import Ridge\n",
    "\n",
    "# Train the model\n",
    "ridgeR = Ridge(alpha = 1)\n",
    "ridgeR.fit(x_train, y_train)\n",
    "y_pred = ridgeR.predict(x_test)\n",
    "\n",
    "# calculating Mean Squared Error (mse)\n",
    "mean_squared_error_ridge = np.mean((y_pred - y_test)**2)\n",
    "print('Mean squared error on test set : ', mean_squared_error_ridge)\n",
    "\n",
    "# get ridge coefficient and print\n",
    "ridge_coefficient = pd.DataFrame()\n",
    "ridge_coefficient['Columns'] = x_train.columns\n",
    "ridge_coefficient['Coefficient Estimates'] = pd.Series(ridgeR.coef_)\n",
    "print(ridge_coefficient)"
   ]
  },
  {
   "cell_type": "code",
   "execution_count": 53,
   "id": "98562d32-ae3b-443c-a056-63dfa781a9b1",
   "metadata": {},
   "outputs": [
    {
     "data": {
      "image/png": "[encoded data removed]",
      "text/plain": [
       "<Figure size 1440x720 with 1 Axes>"
      ]
     },
     "metadata": {},
     "output_type": "display_data"
    }
   ],
   "source": [
    "# plotting the coefficient score\n",
    "fig, ax = plt.subplots(figsize = (20, 10))\n",
    "\n",
    "color = ['tab:gray', 'tab:blue', 'tab:orange', 'tab:green', 'tab:red', 'tab:purple', 'tab:brown', 'tab:pink', 'tab:gray', 'tab:olive', 'tab:cyan', 'tab:orange', 'tab:green','tab:blue', 'tab:olive']\n",
    "\n",
    "ax.bar(lreg_coefficient['Columns'],\n",
    "lreg_coefficient['Coefficient Estimates'],\n",
    "color = color)\n",
    "\n",
    "ax.spines['bottom'].set_position('zero')\n",
    "\n",
    "plt.style.use('ggplot')\n",
    "plt.show()"
   ]
  },
  {
   "cell_type": "markdown",
   "id": "1b082fda-cbd5-48c3-91a3-7ccd86a710ba",
   "metadata": {},
   "source": [
    "#### Lasso Regression"
   ]
  },
  {
   "cell_type": "code",
   "execution_count": 54,
   "id": "2b0b8209-c7e3-43d8-9558-20a28a527029",
   "metadata": {},
   "outputs": [
    {
     "name": "stdout",
     "output_type": "stream",
     "text": [
      "Mean squared error on test set :  24.6012026642934\n",
      "    Columns  Coefficient Estimates\n",
      "0      CRIM              -0.051195\n",
      "1        ZN               0.059491\n",
      "2     INDUS              -0.068543\n",
      "3      CHAS               0.000000\n",
      "4       NOX              -0.000000\n",
      "5        RM               0.824522\n",
      "6       AGE               0.035012\n",
      "7       DIS              -0.826230\n",
      "8       RAD               0.280247\n",
      "9       TAX              -0.014531\n",
      "10  PTRATIO              -0.675340\n",
      "11        B               0.007443\n",
      "12    LSTAT              -0.822560\n"
     ]
    }
   ],
   "source": [
    "# import Lasso regression from sklearn library\n",
    "from sklearn.linear_model import Lasso\n",
    "\n",
    "# Train the model\n",
    "lasso = Lasso(alpha = 1)\n",
    "lasso.fit(x_train, y_train)\n",
    "y_pred = lasso.predict(x_test)\n",
    "\n",
    "# calculating Mean Squared Error (mse)\n",
    "mean_squared_error = np.mean((y_pred - y_test)**2)\n",
    "print('Mean squared error on test set : ', mean_squared_error)\n",
    "\n",
    "# get lasso coefficient and print\n",
    "lasso_coeff = pd.DataFrame()\n",
    "lasso_coeff['Columns'] = x_train.columns\n",
    "lasso_coeff['Coefficient Estimates'] = pd.Series(lasso.coef_)\n",
    "\n",
    "print(lasso_coeff)"
   ]
  },
  {
   "cell_type": "code",
   "execution_count": null,
   "id": "ebdadeed-a667-4e80-a69d-43321b85144e",
   "metadata": {},
   "outputs": [],
   "source": []
  }
 ],
 "metadata": {
  "kernelspec": {
   "display_name": "Python 3 (ipykernel)",
   "language": "python",
   "name": "python3"
  },
  "language_info": {
   "codemirror_mode": {
    "name": "ipython",
    "version": 3
   },
   "file_extension": ".py",
   "mimetype": "text/x-python",
   "name": "python",
   "nbconvert_exporter": "python",
   "pygments_lexer": "ipython3",
   "version": "3.10.9"
  }
 },
 "nbformat": 4,
 "nbformat_minor": 5
}
